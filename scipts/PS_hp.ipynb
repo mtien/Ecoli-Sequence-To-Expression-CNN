{
 "cells": [
  {
   "cell_type": "code",
   "execution_count": null,
   "id": "ee6a76fe",
   "metadata": {},
   "outputs": [
    {
     "name": "stderr",
     "output_type": "stream",
     "text": [
      "c:\\Users\\rsore\\anaconda3\\envs\\TX_prediction\\Lib\\site-packages\\tqdm\\auto.py:21: TqdmWarning: IProgress not found. Please update jupyter and ipywidgets. See https://ipywidgets.readthedocs.io/en/stable/user_install.html\n",
      "  from .autonotebook import tqdm as notebook_tqdm\n"
     ]
    }
   ],
   "source": [
    "import optuna\n",
    "import joblib\n",
    "import optuna.visualization as vis\n",
    "import time\n",
    "\n",
    "import sys\n",
    "import os\n",
    "\n",
    "project_root = os.path.abspath(os.path.join(os.getcwd(), '..'))\n",
    "sys.path.append(project_root)\n",
    "\n",
    "from generators.Optimizers.ParticleSwarm import ParticleSwarm"
   ]
  },
  {
   "cell_type": "code",
   "execution_count": 2,
   "id": "985c4fbe",
   "metadata": {},
   "outputs": [],
   "source": [
    "# ----- Fixed experiment settings -----\n",
    "base_kwargs = {\n",
    "    \"cnn_model_path\": 'Models/CNN_6_1_2.keras',\n",
    "    \"masked_sequence\": \"AATACTAGAGGTCTTCCGACNNNNNNNNNNNNNNNNNNNNNNNNNNNNNNGTGTGGGCGGGAAGACAACTAGGGG\",\n",
    "    \"target_expression\": 1,\n",
    "    \"max_iter\": 100,\n",
    "    \"seed\": 42\n",
    "}\n",
    "\n",
    "# ----- Objective Function -----\n",
    "def objective(trial):\n",
    "\n",
    "    c1 = trial.suggest_float(\"c1\", 0, 1.0)\n",
    "    c2 = trial.suggest_float(\"c2\", 0, 1.0)\n",
    "    w = trial.suggest_float(\"w\", 0, 1.0)\n",
    "    n_particles = trial.suggest_int(\"n_particles\", 1, 100)\n",
    "\n",
    "    # --- GA kwargs ---\n",
    "    kwargs = base_kwargs.copy()\n",
    "    kwargs.update({\n",
    "        \"c1\": c1,\n",
    "        \"c2\": c2,\n",
    "        \"w\": w,\n",
    "        \"n_particles\": n_particles,\n",
    "    })\n",
    "\n",
    "    # --- Run GA ---\n",
    "    try:\n",
    "        ps = ParticleSwarm(**kwargs)\n",
    "        start_time = time.time()\n",
    "        _, _, best_error = ps.run()\n",
    "        end_time = time.time()\n",
    "        return best_error, end_time - start_time\n",
    "    except Exception as e:\n",
    "        print(f\"Trial failed: {e}\")\n",
    "        return 0.0\n",
    "\n",
    "# ----- Run Optimization -----\n",
    "def run_optimization(n_trials=50):\n",
    "    study = optuna.create_study(directions=[\"minimize\", \"minimize\"], sampler=optuna.samplers.TPESampler())\n",
    "    study.optimize(objective, n_trials=n_trials)\n",
    "    return study"
   ]
  },
  {
   "cell_type": "code",
   "execution_count": null,
   "id": "af4d48e1",
   "metadata": {},
   "outputs": [],
   "source": [
    "# study = run_optimization(n_trials=200)\n",
    "# joblib.dump(study, \"Data/Optimizer Hyperparameters/PS_hp_200.pkl\")"
   ]
  },
  {
   "cell_type": "code",
   "execution_count": 5,
   "id": "16f983fd",
   "metadata": {},
   "outputs": [],
   "source": [
    "study = joblib.load(\"../data/optimizer_hp/PS_hp_200.pkl\")"
   ]
  },
  {
   "cell_type": "code",
   "execution_count": 6,
   "id": "698f5ecf",
   "metadata": {},
   "outputs": [
    {
     "data": {
      "application/vnd.plotly.v1+json": {
       "config": {
        "plotlyServerURL": "https://plot.ly"
       },
       "data": [
        {
         "cliponaxis": false,
         "hovertemplate": [
          "c1 (FloatDistribution): 0.024404027068929076<extra></extra>",
          "c2 (FloatDistribution): 0.11953675393047374<extra></extra>",
          "w (FloatDistribution): 0.32236346726510523<extra></extra>",
          "n_particles (IntDistribution): 0.5336957517354918<extra></extra>"
         ],
         "name": "Objective Value 0",
         "orientation": "h",
         "text": [
          "0.02",
          "0.12",
          "0.32",
          "0.53"
         ],
         "textposition": "outside",
         "type": "bar",
         "x": [
          0.024404027068929076,
          0.11953675393047374,
          0.32236346726510523,
          0.5336957517354918
         ],
         "y": [
          "c1",
          "c2",
          "w",
          "n_particles"
         ]
        },
        {
         "cliponaxis": false,
         "hovertemplate": [
          "c2 (FloatDistribution): 0.0013731723879808952<extra></extra>",
          "w (FloatDistribution): 0.0019689657729609123<extra></extra>",
          "c1 (FloatDistribution): 0.0030779421398613917<extra></extra>",
          "n_particles (IntDistribution): 0.9935799196991968<extra></extra>"
         ],
         "name": "Objective Value 1",
         "orientation": "h",
         "text": [
          "<0.01",
          "<0.01",
          "<0.01",
          "0.99"
         ],
         "textposition": "outside",
         "type": "bar",
         "x": [
          0.0013731723879808952,
          0.0019689657729609123,
          0.0030779421398613917,
          0.9935799196991968
         ],
         "y": [
          "c2",
          "w",
          "c1",
          "n_particles"
         ]
        }
       ],
       "layout": {
        "template": {
         "data": {
          "bar": [
           {
            "error_x": {
             "color": "#2a3f5f"
            },
            "error_y": {
             "color": "#2a3f5f"
            },
            "marker": {
             "line": {
              "color": "#E5ECF6",
              "width": 0.5
             },
             "pattern": {
              "fillmode": "overlay",
              "size": 10,
              "solidity": 0.2
             }
            },
            "type": "bar"
           }
          ],
          "barpolar": [
           {
            "marker": {
             "line": {
              "color": "#E5ECF6",
              "width": 0.5
             },
             "pattern": {
              "fillmode": "overlay",
              "size": 10,
              "solidity": 0.2
             }
            },
            "type": "barpolar"
           }
          ],
          "carpet": [
           {
            "aaxis": {
             "endlinecolor": "#2a3f5f",
             "gridcolor": "white",
             "linecolor": "white",
             "minorgridcolor": "white",
             "startlinecolor": "#2a3f5f"
            },
            "baxis": {
             "endlinecolor": "#2a3f5f",
             "gridcolor": "white",
             "linecolor": "white",
             "minorgridcolor": "white",
             "startlinecolor": "#2a3f5f"
            },
            "type": "carpet"
           }
          ],
          "choropleth": [
           {
            "colorbar": {
             "outlinewidth": 0,
             "ticks": ""
            },
            "type": "choropleth"
           }
          ],
          "contour": [
           {
            "colorbar": {
             "outlinewidth": 0,
             "ticks": ""
            },
            "colorscale": [
             [
              0,
              "#0d0887"
             ],
             [
              0.1111111111111111,
              "#46039f"
             ],
             [
              0.2222222222222222,
              "#7201a8"
             ],
             [
              0.3333333333333333,
              "#9c179e"
             ],
             [
              0.4444444444444444,
              "#bd3786"
             ],
             [
              0.5555555555555556,
              "#d8576b"
             ],
             [
              0.6666666666666666,
              "#ed7953"
             ],
             [
              0.7777777777777778,
              "#fb9f3a"
             ],
             [
              0.8888888888888888,
              "#fdca26"
             ],
             [
              1,
              "#f0f921"
             ]
            ],
            "type": "contour"
           }
          ],
          "contourcarpet": [
           {
            "colorbar": {
             "outlinewidth": 0,
             "ticks": ""
            },
            "type": "contourcarpet"
           }
          ],
          "heatmap": [
           {
            "colorbar": {
             "outlinewidth": 0,
             "ticks": ""
            },
            "colorscale": [
             [
              0,
              "#0d0887"
             ],
             [
              0.1111111111111111,
              "#46039f"
             ],
             [
              0.2222222222222222,
              "#7201a8"
             ],
             [
              0.3333333333333333,
              "#9c179e"
             ],
             [
              0.4444444444444444,
              "#bd3786"
             ],
             [
              0.5555555555555556,
              "#d8576b"
             ],
             [
              0.6666666666666666,
              "#ed7953"
             ],
             [
              0.7777777777777778,
              "#fb9f3a"
             ],
             [
              0.8888888888888888,
              "#fdca26"
             ],
             [
              1,
              "#f0f921"
             ]
            ],
            "type": "heatmap"
           }
          ],
          "heatmapgl": [
           {
            "colorbar": {
             "outlinewidth": 0,
             "ticks": ""
            },
            "colorscale": [
             [
              0,
              "#0d0887"
             ],
             [
              0.1111111111111111,
              "#46039f"
             ],
             [
              0.2222222222222222,
              "#7201a8"
             ],
             [
              0.3333333333333333,
              "#9c179e"
             ],
             [
              0.4444444444444444,
              "#bd3786"
             ],
             [
              0.5555555555555556,
              "#d8576b"
             ],
             [
              0.6666666666666666,
              "#ed7953"
             ],
             [
              0.7777777777777778,
              "#fb9f3a"
             ],
             [
              0.8888888888888888,
              "#fdca26"
             ],
             [
              1,
              "#f0f921"
             ]
            ],
            "type": "heatmapgl"
           }
          ],
          "histogram": [
           {
            "marker": {
             "pattern": {
              "fillmode": "overlay",
              "size": 10,
              "solidity": 0.2
             }
            },
            "type": "histogram"
           }
          ],
          "histogram2d": [
           {
            "colorbar": {
             "outlinewidth": 0,
             "ticks": ""
            },
            "colorscale": [
             [
              0,
              "#0d0887"
             ],
             [
              0.1111111111111111,
              "#46039f"
             ],
             [
              0.2222222222222222,
              "#7201a8"
             ],
             [
              0.3333333333333333,
              "#9c179e"
             ],
             [
              0.4444444444444444,
              "#bd3786"
             ],
             [
              0.5555555555555556,
              "#d8576b"
             ],
             [
              0.6666666666666666,
              "#ed7953"
             ],
             [
              0.7777777777777778,
              "#fb9f3a"
             ],
             [
              0.8888888888888888,
              "#fdca26"
             ],
             [
              1,
              "#f0f921"
             ]
            ],
            "type": "histogram2d"
           }
          ],
          "histogram2dcontour": [
           {
            "colorbar": {
             "outlinewidth": 0,
             "ticks": ""
            },
            "colorscale": [
             [
              0,
              "#0d0887"
             ],
             [
              0.1111111111111111,
              "#46039f"
             ],
             [
              0.2222222222222222,
              "#7201a8"
             ],
             [
              0.3333333333333333,
              "#9c179e"
             ],
             [
              0.4444444444444444,
              "#bd3786"
             ],
             [
              0.5555555555555556,
              "#d8576b"
             ],
             [
              0.6666666666666666,
              "#ed7953"
             ],
             [
              0.7777777777777778,
              "#fb9f3a"
             ],
             [
              0.8888888888888888,
              "#fdca26"
             ],
             [
              1,
              "#f0f921"
             ]
            ],
            "type": "histogram2dcontour"
           }
          ],
          "mesh3d": [
           {
            "colorbar": {
             "outlinewidth": 0,
             "ticks": ""
            },
            "type": "mesh3d"
           }
          ],
          "parcoords": [
           {
            "line": {
             "colorbar": {
              "outlinewidth": 0,
              "ticks": ""
             }
            },
            "type": "parcoords"
           }
          ],
          "pie": [
           {
            "automargin": true,
            "type": "pie"
           }
          ],
          "scatter": [
           {
            "fillpattern": {
             "fillmode": "overlay",
             "size": 10,
             "solidity": 0.2
            },
            "type": "scatter"
           }
          ],
          "scatter3d": [
           {
            "line": {
             "colorbar": {
              "outlinewidth": 0,
              "ticks": ""
             }
            },
            "marker": {
             "colorbar": {
              "outlinewidth": 0,
              "ticks": ""
             }
            },
            "type": "scatter3d"
           }
          ],
          "scattercarpet": [
           {
            "marker": {
             "colorbar": {
              "outlinewidth": 0,
              "ticks": ""
             }
            },
            "type": "scattercarpet"
           }
          ],
          "scattergeo": [
           {
            "marker": {
             "colorbar": {
              "outlinewidth": 0,
              "ticks": ""
             }
            },
            "type": "scattergeo"
           }
          ],
          "scattergl": [
           {
            "marker": {
             "colorbar": {
              "outlinewidth": 0,
              "ticks": ""
             }
            },
            "type": "scattergl"
           }
          ],
          "scattermapbox": [
           {
            "marker": {
             "colorbar": {
              "outlinewidth": 0,
              "ticks": ""
             }
            },
            "type": "scattermapbox"
           }
          ],
          "scatterpolar": [
           {
            "marker": {
             "colorbar": {
              "outlinewidth": 0,
              "ticks": ""
             }
            },
            "type": "scatterpolar"
           }
          ],
          "scatterpolargl": [
           {
            "marker": {
             "colorbar": {
              "outlinewidth": 0,
              "ticks": ""
             }
            },
            "type": "scatterpolargl"
           }
          ],
          "scatterternary": [
           {
            "marker": {
             "colorbar": {
              "outlinewidth": 0,
              "ticks": ""
             }
            },
            "type": "scatterternary"
           }
          ],
          "surface": [
           {
            "colorbar": {
             "outlinewidth": 0,
             "ticks": ""
            },
            "colorscale": [
             [
              0,
              "#0d0887"
             ],
             [
              0.1111111111111111,
              "#46039f"
             ],
             [
              0.2222222222222222,
              "#7201a8"
             ],
             [
              0.3333333333333333,
              "#9c179e"
             ],
             [
              0.4444444444444444,
              "#bd3786"
             ],
             [
              0.5555555555555556,
              "#d8576b"
             ],
             [
              0.6666666666666666,
              "#ed7953"
             ],
             [
              0.7777777777777778,
              "#fb9f3a"
             ],
             [
              0.8888888888888888,
              "#fdca26"
             ],
             [
              1,
              "#f0f921"
             ]
            ],
            "type": "surface"
           }
          ],
          "table": [
           {
            "cells": {
             "fill": {
              "color": "#EBF0F8"
             },
             "line": {
              "color": "white"
             }
            },
            "header": {
             "fill": {
              "color": "#C8D4E3"
             },
             "line": {
              "color": "white"
             }
            },
            "type": "table"
           }
          ]
         },
         "layout": {
          "annotationdefaults": {
           "arrowcolor": "#2a3f5f",
           "arrowhead": 0,
           "arrowwidth": 1
          },
          "autotypenumbers": "strict",
          "coloraxis": {
           "colorbar": {
            "outlinewidth": 0,
            "ticks": ""
           }
          },
          "colorscale": {
           "diverging": [
            [
             0,
             "#8e0152"
            ],
            [
             0.1,
             "#c51b7d"
            ],
            [
             0.2,
             "#de77ae"
            ],
            [
             0.3,
             "#f1b6da"
            ],
            [
             0.4,
             "#fde0ef"
            ],
            [
             0.5,
             "#f7f7f7"
            ],
            [
             0.6,
             "#e6f5d0"
            ],
            [
             0.7,
             "#b8e186"
            ],
            [
             0.8,
             "#7fbc41"
            ],
            [
             0.9,
             "#4d9221"
            ],
            [
             1,
             "#276419"
            ]
           ],
           "sequential": [
            [
             0,
             "#0d0887"
            ],
            [
             0.1111111111111111,
             "#46039f"
            ],
            [
             0.2222222222222222,
             "#7201a8"
            ],
            [
             0.3333333333333333,
             "#9c179e"
            ],
            [
             0.4444444444444444,
             "#bd3786"
            ],
            [
             0.5555555555555556,
             "#d8576b"
            ],
            [
             0.6666666666666666,
             "#ed7953"
            ],
            [
             0.7777777777777778,
             "#fb9f3a"
            ],
            [
             0.8888888888888888,
             "#fdca26"
            ],
            [
             1,
             "#f0f921"
            ]
           ],
           "sequentialminus": [
            [
             0,
             "#0d0887"
            ],
            [
             0.1111111111111111,
             "#46039f"
            ],
            [
             0.2222222222222222,
             "#7201a8"
            ],
            [
             0.3333333333333333,
             "#9c179e"
            ],
            [
             0.4444444444444444,
             "#bd3786"
            ],
            [
             0.5555555555555556,
             "#d8576b"
            ],
            [
             0.6666666666666666,
             "#ed7953"
            ],
            [
             0.7777777777777778,
             "#fb9f3a"
            ],
            [
             0.8888888888888888,
             "#fdca26"
            ],
            [
             1,
             "#f0f921"
            ]
           ]
          },
          "colorway": [
           "#636efa",
           "#EF553B",
           "#00cc96",
           "#ab63fa",
           "#FFA15A",
           "#19d3f3",
           "#FF6692",
           "#B6E880",
           "#FF97FF",
           "#FECB52"
          ],
          "font": {
           "color": "#2a3f5f"
          },
          "geo": {
           "bgcolor": "white",
           "lakecolor": "white",
           "landcolor": "#E5ECF6",
           "showlakes": true,
           "showland": true,
           "subunitcolor": "white"
          },
          "hoverlabel": {
           "align": "left"
          },
          "hovermode": "closest",
          "mapbox": {
           "style": "light"
          },
          "paper_bgcolor": "white",
          "plot_bgcolor": "#E5ECF6",
          "polar": {
           "angularaxis": {
            "gridcolor": "white",
            "linecolor": "white",
            "ticks": ""
           },
           "bgcolor": "#E5ECF6",
           "radialaxis": {
            "gridcolor": "white",
            "linecolor": "white",
            "ticks": ""
           }
          },
          "scene": {
           "xaxis": {
            "backgroundcolor": "#E5ECF6",
            "gridcolor": "white",
            "gridwidth": 2,
            "linecolor": "white",
            "showbackground": true,
            "ticks": "",
            "zerolinecolor": "white"
           },
           "yaxis": {
            "backgroundcolor": "#E5ECF6",
            "gridcolor": "white",
            "gridwidth": 2,
            "linecolor": "white",
            "showbackground": true,
            "ticks": "",
            "zerolinecolor": "white"
           },
           "zaxis": {
            "backgroundcolor": "#E5ECF6",
            "gridcolor": "white",
            "gridwidth": 2,
            "linecolor": "white",
            "showbackground": true,
            "ticks": "",
            "zerolinecolor": "white"
           }
          },
          "shapedefaults": {
           "line": {
            "color": "#2a3f5f"
           }
          },
          "ternary": {
           "aaxis": {
            "gridcolor": "white",
            "linecolor": "white",
            "ticks": ""
           },
           "baxis": {
            "gridcolor": "white",
            "linecolor": "white",
            "ticks": ""
           },
           "bgcolor": "#E5ECF6",
           "caxis": {
            "gridcolor": "white",
            "linecolor": "white",
            "ticks": ""
           }
          },
          "title": {
           "x": 0.05
          },
          "xaxis": {
           "automargin": true,
           "gridcolor": "white",
           "linecolor": "white",
           "ticks": "",
           "title": {
            "standoff": 15
           },
           "zerolinecolor": "white",
           "zerolinewidth": 2
          },
          "yaxis": {
           "automargin": true,
           "gridcolor": "white",
           "linecolor": "white",
           "ticks": "",
           "title": {
            "standoff": 15
           },
           "zerolinecolor": "white",
           "zerolinewidth": 2
          }
         }
        },
        "title": {
         "text": "Hyperparameter Importances"
        },
        "xaxis": {
         "title": {
          "text": "Hyperparameter Importance"
         }
        },
        "yaxis": {
         "title": {
          "text": "Hyperparameter"
         }
        }
       }
      }
     },
     "metadata": {},
     "output_type": "display_data"
    }
   ],
   "source": [
    "vis.plot_param_importances(study).show()"
   ]
  },
  {
   "cell_type": "code",
   "execution_count": 7,
   "id": "fe301af8",
   "metadata": {},
   "outputs": [
    {
     "data": {
      "application/vnd.plotly.v1+json": {
       "config": {
        "plotlyServerURL": "https://plot.ly"
       },
       "data": [
        {
         "hovertemplate": "%{text}<extra>Trial</extra>",
         "marker": {
          "color": [
           0,
           1,
           2,
           3,
           4,
           5,
           6,
           7,
           8,
           9,
           10,
           11,
           12,
           13,
           14,
           15,
           16,
           17,
           18,
           19,
           21,
           22,
           23,
           24,
           25,
           26,
           27,
           28,
           29,
           30,
           31,
           32,
           33,
           34,
           35,
           36,
           37,
           38,
           39,
           40,
           41,
           43,
           45,
           46,
           47,
           48,
           49,
           50,
           51,
           52,
           53,
           54,
           55,
           56,
           57,
           58,
           59,
           60,
           61,
           62,
           63,
           64,
           65,
           66,
           67,
           68,
           69,
           70,
           71,
           72,
           73,
           74,
           75,
           76,
           77,
           78,
           79,
           80,
           82,
           83,
           85,
           86,
           87,
           88,
           89,
           91,
           92,
           94,
           95,
           96,
           97,
           98,
           99,
           100,
           101,
           102,
           103,
           104,
           105,
           107,
           108,
           109,
           110,
           111,
           112,
           113,
           114,
           115,
           116,
           117,
           118,
           119,
           120,
           121,
           123,
           124,
           125,
           126,
           127,
           128,
           129,
           130,
           131,
           132,
           133,
           134,
           135,
           136,
           137,
           138,
           139,
           140,
           141,
           142,
           144,
           145,
           146,
           147,
           148,
           149,
           150,
           153,
           154,
           155,
           157,
           158,
           159,
           160,
           161,
           162,
           163,
           164,
           165,
           166,
           167,
           168,
           169,
           170,
           171,
           173,
           174,
           175,
           176,
           177,
           178,
           179,
           180,
           181,
           182,
           183,
           184,
           185,
           186,
           187,
           188,
           189,
           190,
           191,
           192,
           193,
           194,
           195,
           196,
           197,
           198,
           199
          ],
          "colorbar": {
           "title": {
            "text": "Trial"
           }
          },
          "colorscale": [
           [
            0,
            "rgb(247,251,255)"
           ],
           [
            0.125,
            "rgb(222,235,247)"
           ],
           [
            0.25,
            "rgb(198,219,239)"
           ],
           [
            0.375,
            "rgb(158,202,225)"
           ],
           [
            0.5,
            "rgb(107,174,214)"
           ],
           [
            0.625,
            "rgb(66,146,198)"
           ],
           [
            0.75,
            "rgb(33,113,181)"
           ],
           [
            0.875,
            "rgb(8,81,156)"
           ],
           [
            1,
            "rgb(8,48,107)"
           ]
          ],
          "line": {
           "color": "Grey",
           "width": 0.5
          }
         },
         "mode": "markers",
         "showlegend": false,
         "text": [
          "{<br>  \"number\": 0,<br>  \"values\": [<br>    0.5557939410209656,<br>    46.196460008621216<br>  ],<br>  \"params\": {<br>    \"c1\": 0.09763495748156337,<br>    \"c2\": 0.9185246681639462,<br>    \"w\": 0.27420292126847967,<br>    \"n_particles\": 46<br>  }<br>}",
          "{<br>  \"number\": 1,<br>  \"values\": [<br>    0.5670615434646606,<br>    10.903122663497925<br>  ],<br>  \"params\": {<br>    \"c1\": 0.881953180432802,<br>    \"c2\": 0.5114252357820137,<br>    \"w\": 0.6059290824877434,<br>    \"n_particles\": 9<br>  }<br>}",
          "{<br>  \"number\": 2,<br>  \"values\": [<br>    0.5419639348983765,<br>    105.68414545059204<br>  ],<br>  \"params\": {<br>    \"c1\": 0.6322334747587369,<br>    \"c2\": 0.5428040951390646,<br>    \"w\": 0.8947225299826569,<br>    \"n_particles\": 100<br>  }<br>}",
          "{<br>  \"number\": 3,<br>  \"values\": [<br>    0.5589091181755066,<br>    73.92685103416443<br>  ],<br>  \"params\": {<br>    \"c1\": 0.6566671682525878,<br>    \"c2\": 0.22467378647754532,<br>    \"w\": 0.48002652672216706,<br>    \"n_particles\": 70<br>  }<br>}",
          "{<br>  \"number\": 4,<br>  \"values\": [<br>    0.49117547273635864,<br>    27.647370100021362<br>  ],<br>  \"params\": {<br>    \"c1\": 0.8972167436473805,<br>    \"c2\": 0.27052409377886,<br>    \"w\": 0.6745261615872165,<br>    \"n_particles\": 29<br>  }<br>}",
          "{<br>  \"number\": 5,<br>  \"values\": [<br>    0.5302043557167053,<br>    76.79286646842957<br>  ],<br>  \"params\": {<br>    \"c1\": 0.5358087267610583,<br>    \"c2\": 0.813038496464552,<br>    \"w\": 0.6165107939267529,<br>    \"n_particles\": 76<br>  }<br>}",
          "{<br>  \"number\": 6,<br>  \"values\": [<br>    0.6067870855331421,<br>    6.121327638626099<br>  ],<br>  \"params\": {<br>    \"c1\": 0.1879137495626393,<br>    \"c2\": 0.7215451026693969,<br>    \"w\": 0.45631763232057554,<br>    \"n_particles\": 4<br>  }<br>}",
          "{<br>  \"number\": 7,<br>  \"values\": [<br>    0.5244007706642151,<br>    69.59890270233154<br>  ],<br>  \"params\": {<br>    \"c1\": 0.2316014194259235,<br>    \"c2\": 0.6383369650458777,<br>    \"w\": 0.9615672691643713,<br>    \"n_particles\": 65<br>  }<br>}",
          "{<br>  \"number\": 8,<br>  \"values\": [<br>    0.5011330842971802,<br>    107.16769886016846<br>  ],<br>  \"params\": {<br>    \"c1\": 0.45038677048298714,<br>    \"c2\": 0.21908995733660197,<br>    \"w\": 0.5503271545202739,<br>    \"n_particles\": 80<br>  }<br>}",
          "{<br>  \"number\": 9,<br>  \"values\": [<br>    0.5637328624725342,<br>    5.646910190582275<br>  ],<br>  \"params\": {<br>    \"c1\": 0.2947764982950095,<br>    \"c2\": 0.13903994662180919,<br>    \"w\": 0.9707743952162937,<br>    \"n_particles\": 5<br>  }<br>}",
          "{<br>  \"number\": 10,<br>  \"values\": [<br>    0.6114583611488342,<br>    28.93617534637451<br>  ],<br>  \"params\": {<br>    \"c1\": 0.35252465170440955,<br>    \"c2\": 0.031406001983937615,<br>    \"w\": 0.03800680507449694,<br>    \"n_particles\": 31<br>  }<br>}",
          "{<br>  \"number\": 11,<br>  \"values\": [<br>    0.5689848065376282,<br>    21.554579973220825<br>  ],<br>  \"params\": {<br>    \"c1\": 0.9985924623278187,<br>    \"c2\": 0.2972192862974075,<br>    \"w\": 0.801462317256324,<br>    \"n_particles\": 23<br>  }<br>}",
          "{<br>  \"number\": 12,<br>  \"values\": [<br>    0.6163542568683624,<br>    24.650926113128662<br>  ],<br>  \"params\": {<br>    \"c1\": 0.018147492773717078,<br>    \"c2\": 0.002776568156367565,<br>    \"w\": 0.7717317006861744,<br>    \"n_particles\": 26<br>  }<br>}",
          "{<br>  \"number\": 13,<br>  \"values\": [<br>    0.6240193843841553,<br>    3.7936999797821045<br>  ],<br>  \"params\": {<br>    \"c1\": 0.32226104889568685,<br>    \"c2\": 0.3480114512657394,<br>    \"w\": 0.9873400178472331,<br>    \"n_particles\": 3<br>  }<br>}",
          "{<br>  \"number\": 14,<br>  \"values\": [<br>    0.512452244758606,<br>    15.665725469589233<br>  ],<br>  \"params\": {<br>    \"c1\": 0.7592870446414136,<br>    \"c2\": 0.13307368378583667,<br>    \"w\": 0.7562853245026318,<br>    \"n_particles\": 16<br>  }<br>}",
          "{<br>  \"number\": 15,<br>  \"values\": [<br>    0.5240111947059631,<br>    14.853394269943237<br>  ],<br>  \"params\": {<br>    \"c1\": 0.41288154498958773,<br>    \"c2\": 0.11608136560415536,<br>    \"w\": 0.8302607861440404,<br>    \"n_particles\": 15<br>  }<br>}",
          "{<br>  \"number\": 16,<br>  \"values\": [<br>    0.5896883308887482,<br>    44.95212197303772<br>  ],<br>  \"params\": {<br>    \"c1\": 0.692132358242463,<br>    \"c2\": 0.41859229553439353,<br>    \"w\": 0.008800195342228312,<br>    \"n_particles\": 41<br>  }<br>}",
          "{<br>  \"number\": 17,<br>  \"values\": [<br>    0.5995820164680481,<br>    54.00006699562073<br>  ],<br>  \"params\": {<br>    \"c1\": 0.2171261170093752,<br>    \"c2\": 0.13458986974216308,<br>    \"w\": 0.28119746214317887,<br>    \"n_particles\": 55<br>  }<br>}",
          "{<br>  \"number\": 18,<br>  \"values\": [<br>    0.5732330679893494,<br>    15.257722616195679<br>  ],<br>  \"params\": {<br>    \"c1\": 0.510262355503696,<br>    \"c2\": 0.45976360700512875,<br>    \"w\": 0.725163051184733,<br>    \"n_particles\": 16<br>  }<br>}",
          "{<br>  \"number\": 19,<br>  \"values\": [<br>    0.5399910509586334,<br>    34.484766721725464<br>  ],<br>  \"params\": {<br>    \"c1\": 0.7634822918729544,<br>    \"c2\": 0.11180742838343846,<br>    \"w\": 0.9064988400881386,<br>    \"n_particles\": 38<br>  }<br>}",
          "{<br>  \"number\": 21,<br>  \"values\": [<br>    0.5412489771842957,<br>    17.422841787338257<br>  ],<br>  \"params\": {<br>    \"c1\": 0.31077066572516376,<br>    \"c2\": 0.35285033120911397,<br>    \"w\": 0.9944029151360496,<br>    \"n_particles\": 13<br>  }<br>}",
          "{<br>  \"number\": 22,<br>  \"values\": [<br>    0.5711183547973633,<br>    24.481915950775146<br>  ],<br>  \"params\": {<br>    \"c1\": 0.12636695521418584,<br>    \"c2\": 0.17182538281081589,<br>    \"w\": 0.8754393902793997,<br>    \"n_particles\": 20<br>  }<br>}",
          "{<br>  \"number\": 23,<br>  \"values\": [<br>    0.5909071862697601,<br>    4.18756628036499<br>  ],<br>  \"params\": {<br>    \"c1\": 0.26681770577873376,<br>    \"c2\": 0.3237669411890527,<br>    \"w\": 0.9942206587332105,<br>    \"n_particles\": 2<br>  }<br>}",
          "{<br>  \"number\": 24,<br>  \"values\": [<br>    0.5405651330947876,<br>    106.82813310623169<br>  ],<br>  \"params\": {<br>    \"c1\": 0.40940059958012887,<br>    \"c2\": 0.9931003600671993,<br>    \"w\": 0.717158382193749,<br>    \"n_particles\": 100<br>  }<br>}",
          "{<br>  \"number\": 25,<br>  \"values\": [<br>    0.6583252549171448,<br>    9.934156656265259<br>  ],<br>  \"params\": {<br>    \"c1\": 0.5627722039404983,<br>    \"c2\": 0.07046896159157581,<br>    \"w\": 0.11359617442676351,<br>    \"n_particles\": 10<br>  }<br>}",
          "{<br>  \"number\": 26,<br>  \"values\": [<br>    0.5059898495674133,<br>    82.44923067092896<br>  ],<br>  \"params\": {<br>    \"c1\": 0.12334305859645367,<br>    \"c2\": 0.3650423506452569,<br>    \"w\": 0.8007321713180211,<br>    \"n_particles\": 89<br>  }<br>}",
          "{<br>  \"number\": 27,<br>  \"values\": [<br>    0.5825654864311218,<br>    31.103813886642456<br>  ],<br>  \"params\": {<br>    \"c1\": 0.028643041162739746,<br>    \"c2\": 0.22490420667397873,<br>    \"w\": 0.8936976236000778,<br>    \"n_particles\": 33<br>  }<br>}",
          "{<br>  \"number\": 28,<br>  \"values\": [<br>    0.5348272323608398,<br>    54.574219942092896<br>  ],<br>  \"params\": {<br>    \"c1\": 0.3789810496746398,<br>    \"c2\": 0.40759908521387694,<br>    \"w\": 0.9450248547497393,<br>    \"n_particles\": 57<br>  }<br>}",
          "{<br>  \"number\": 29,<br>  \"values\": [<br>    0.6333070993423462,<br>    6.51220965385437<br>  ],<br>  \"params\": {<br>    \"c1\": 0.16091528349406026,<br>    \"c2\": 0.17870484652929494,<br>    \"w\": 0.8488645614453147,<br>    \"n_particles\": 6<br>  }<br>}",
          "{<br>  \"number\": 30,<br>  \"values\": [<br>    0.5541055798530579,<br>    19.082549810409546<br>  ],<br>  \"params\": {<br>    \"c1\": 0.28562303230220676,<br>    \"c2\": 0.8885852621371577,<br>    \"w\": 0.13125041013753314,<br>    \"n_particles\": 19<br>  }<br>}",
          "{<br>  \"number\": 31,<br>  \"values\": [<br>    0.6883001923561096,<br>    2.9048731327056885<br>  ],<br>  \"params\": {<br>    \"c1\": 0.33362271382186925,<br>    \"c2\": 0.5817552076903614,<br>    \"w\": 0.39208569733584486,<br>    \"n_particles\": 2<br>  }<br>}",
          "{<br>  \"number\": 32,<br>  \"values\": [<br>    0.581722617149353,<br>    11.893155336380005<br>  ],<br>  \"params\": {<br>    \"c1\": 0.4632776829035602,<br>    \"c2\": 0.7020515525098167,<br>    \"w\": 0.3358275064119234,<br>    \"n_particles\": 12<br>  }<br>}",
          "{<br>  \"number\": 33,<br>  \"values\": [<br>    0.6150358319282532,<br>    9.2169828414917<br>  ],<br>  \"params\": {<br>    \"c1\": 0.07476765395917637,<br>    \"c2\": 0.058974585626793766,<br>    \"w\": 0.6648102055189777,<br>    \"n_particles\": 7<br>  }<br>}",
          "{<br>  \"number\": 34,<br>  \"values\": [<br>    0.7067845463752747,<br>    2.9656758308410645<br>  ],<br>  \"params\": {<br>    \"c1\": 0.25881972403315684,<br>    \"c2\": 0.4924110307449839,<br>    \"w\": 0.5438323071314661,<br>    \"n_particles\": 1<br>  }<br>}",
          "{<br>  \"number\": 35,<br>  \"values\": [<br>    0.5339960753917694,<br>    59.38185453414917<br>  ],<br>  \"params\": {<br>    \"c1\": 0.7978721741468944,<br>    \"c2\": 0.24405230719458554,<br>    \"w\": 0.9280876255338549,<br>    \"n_particles\": 45<br>  }<br>}",
          "{<br>  \"number\": 36,<br>  \"values\": [<br>    0.6242920458316803,<br>    11.39980936050415<br>  ],<br>  \"params\": {<br>    \"c1\": 0.58293660915287,<br>    \"c2\": 0.5619053692711052,<br>    \"w\": 0.7636714340798822,<br>    \"n_particles\": 8<br>  }<br>}",
          "{<br>  \"number\": 37,<br>  \"values\": [<br>    0.6156567335128784,<br>    32.43006205558777<br>  ],<br>  \"params\": {<br>    \"c1\": 0.9969856699747638,<br>    \"c2\": 0.16079510430029487,<br>    \"w\": 0.22879613022351442,<br>    \"n_particles\": 25<br>  }<br>}",
          "{<br>  \"number\": 38,<br>  \"values\": [<br>    0.5649519860744476,<br>    19.379711151123047<br>  ],<br>  \"params\": {<br>    \"c1\": 0.17511837354435256,<br>    \"c2\": 0.6439312489680281,<br>    \"w\": 0.6317991659975806,<br>    \"n_particles\": 19<br>  }<br>}",
          "{<br>  \"number\": 39,<br>  \"values\": [<br>    0.6218419075012207,<br>    9.113144636154175<br>  ],<br>  \"params\": {<br>    \"c1\": 0.622445967890596,<br>    \"c2\": 0.8432850972113144,<br>    \"w\": 0.8681754245394002,<br>    \"n_particles\": 9<br>  }<br>}",
          "{<br>  \"number\": 40,<br>  \"values\": [<br>    0.5985628366470337,<br>    71.33443593978882<br>  ],<br>  \"params\": {<br>    \"c1\": 0.3799415877189368,<br>    \"c2\": 0.26670989265094525,<br>    \"w\": 0.414780283823546,<br>    \"n_particles\": 66<br>  }<br>}",
          "{<br>  \"number\": 41,<br>  \"values\": [<br>    0.5818654298782349,<br>    27.63022780418396<br>  ],<br>  \"params\": {<br>    \"c1\": 0.7932214174512696,<br>    \"c2\": 0.09211367034172796,<br>    \"w\": 0.5701066121528282,<br>    \"n_particles\": 27<br>  }<br>}",
          "{<br>  \"number\": 43,<br>  \"values\": [<br>    0.5944798588752747,<br>    4.831836223602295<br>  ],<br>  \"params\": {<br>    \"c1\": 0.2741279477728019,<br>    \"c2\": 0.28782423983797073,<br>    \"w\": 0.9860425260681182,<br>    \"n_particles\": 4<br>  }<br>}",
          "{<br>  \"number\": 45,<br>  \"values\": [<br>    0.541214257478714,<br>    11.07811689376831<br>  ],<br>  \"params\": {<br>    \"c1\": 0.9172383094648198,<br>    \"c2\": 0.2969356191172754,<br>    \"w\": 0.47640105886547135,<br>    \"n_particles\": 11<br>  }<br>}",
          "{<br>  \"number\": 46,<br>  \"values\": [<br>    0.5804020464420319,<br>    13.055604219436646<br>  ],<br>  \"params\": {<br>    \"c1\": 0.9150688685163294,<br>    \"c2\": 0.21193727330984705,<br>    \"w\": 0.4904475690366993,<br>    \"n_particles\": 12<br>  }<br>}",
          "{<br>  \"number\": 47,<br>  \"values\": [<br>    0.6412261426448822,<br>    9.000896453857422<br>  ],<br>  \"params\": {<br>    \"c1\": 0.9563488471129601,<br>    \"c2\": 0.3238532888066614,<br>    \"w\": 0.4530135387291263,<br>    \"n_particles\": 6<br>  }<br>}",
          "{<br>  \"number\": 48,<br>  \"values\": [<br>    0.5463157296180725,<br>    29.01978826522827<br>  ],<br>  \"params\": {<br>    \"c1\": 0.8551343873323053,<br>    \"c2\": 0.41837590501415356,<br>    \"w\": 0.5128036931983031,<br>    \"n_particles\": 21<br>  }<br>}",
          "{<br>  \"number\": 49,<br>  \"values\": [<br>    0.5466005206108093,<br>    22.3205783367157<br>  ],<br>  \"params\": {<br>    \"c1\": 0.8676721663595057,<br>    \"c2\": 0.38341016540113243,<br>    \"w\": 0.6114217659337674,<br>    \"n_particles\": 16<br>  }<br>}",
          "{<br>  \"number\": 50,<br>  \"values\": [<br>    0.6294794976711273,<br>    12.81482982635498<br>  ],<br>  \"params\": {<br>    \"c1\": 0.6957059363735059,<br>    \"c2\": 0.294966988591567,<br>    \"w\": 0.6925623351730386,<br>    \"n_particles\": 9<br>  }<br>}",
          "{<br>  \"number\": 51,<br>  \"values\": [<br>    0.5960270166397095,<br>    6.518858194351196<br>  ],<br>  \"params\": {<br>    \"c1\": 0.9347727488893135,<br>    \"c2\": 0.32245532095582957,<br>    \"w\": 0.5750520094093851,<br>    \"n_particles\": 4<br>  }<br>}",
          "{<br>  \"number\": 52,<br>  \"values\": [<br>    0.5693463981151581,<br>    86.1701135635376<br>  ],<br>  \"params\": {<br>    \"c1\": 0.8219136443587879,<br>    \"c2\": 0.1948225747015137,<br>    \"w\": 0.44608597151998086,<br>    \"n_particles\": 78<br>  }<br>}",
          "{<br>  \"number\": 53,<br>  \"values\": [<br>    0.7143840193748474,<br>    1.8790106773376465<br>  ],<br>  \"params\": {<br>    \"c1\": 0.8893692097212065,<br>    \"c2\": 0.25420736363681007,<br>    \"w\": 0.507516706912594,<br>    \"n_particles\": 1<br>  }<br>}",
          "{<br>  \"number\": 54,<br>  \"values\": [<br>    0.6109057664871216,<br>    32.491188287734985<br>  ],<br>  \"params\": {<br>    \"c1\": 0.7176414157795155,<br>    \"c2\": 0.002304574489380512,<br>    \"w\": 0.30360861849268395,<br>    \"n_particles\": 35<br>  }<br>}",
          "{<br>  \"number\": 55,<br>  \"values\": [<br>    0.5866608619689941,<br>    13.695827007293701<br>  ],<br>  \"params\": {<br>    \"c1\": 0.8336732252797275,<br>    \"c2\": 0.3216771160991896,<br>    \"w\": 0.20982900613142708,<br>    \"n_particles\": 14<br>  }<br>}",
          "{<br>  \"number\": 56,<br>  \"values\": [<br>    0.5269527435302734,<br>    53.377121925354004<br>  ],<br>  \"params\": {<br>    \"c1\": 0.23244341784272848,<br>    \"c2\": 0.1294831477070153,<br>    \"w\": 0.8176632563239206,<br>    \"n_particles\": 51<br>  }<br>}",
          "{<br>  \"number\": 57,<br>  \"values\": [<br>    0.6303187608718872,<br>    6.369996786117554<br>  ],<br>  \"params\": {<br>    \"c1\": 0.9721893675439204,<br>    \"c2\": 0.042225263827507964,<br>    \"w\": 0.6428514790021655,<br>    \"n_particles\": 6<br>  }<br>}",
          "{<br>  \"number\": 58,<br>  \"values\": [<br>    0.5890574157238007,<br>    10.533624649047852<br>  ],<br>  \"params\": {<br>    \"c1\": 0.44854096221874457,<br>    \"c2\": 0.4758688693256022,<br>    \"w\": 0.9565415540196952,<br>    \"n_particles\": 11<br>  }<br>}",
          "{<br>  \"number\": 59,<br>  \"values\": [<br>    0.5807303190231323,<br>    15.246661901473999<br>  ],<br>  \"params\": {<br>    \"c1\": 0.9074504641695306,<br>    \"c2\": 0.45485457173526883,<br>    \"w\": 0.4063426418048718,<br>    \"n_particles\": 16<br>  }<br>}",
          "{<br>  \"number\": 60,<br>  \"values\": [<br>    0.5272672772407532,<br>    83.1809310913086<br>  ],<br>  \"params\": {<br>    \"c1\": 0.21086994058015873,<br>    \"c2\": 0.2298552573239998,<br>    \"w\": 0.9203831986669002,<br>    \"n_particles\": 83<br>  }<br>}",
          "{<br>  \"number\": 61,<br>  \"values\": [<br>    0.6220384836196899,<br>    3.8131961822509766<br>  ],<br>  \"params\": {<br>    \"c1\": 0.8926026405066347,<br>    \"c2\": 0.25892877770110256,<br>    \"w\": 0.7164824257564987,<br>    \"n_particles\": 3<br>  }<br>}",
          "{<br>  \"number\": 62,<br>  \"values\": [<br>    0.7211641371250153,<br>    1.9298467636108398<br>  ],<br>  \"params\": {<br>    \"c1\": 0.9422513602601681,<br>    \"c2\": 0.14647792413768895,<br>    \"w\": 0.5325357033104524,<br>    \"n_particles\": 1<br>  }<br>}",
          "{<br>  \"number\": 63,<br>  \"values\": [<br>    0.5267005562782288,<br>    68.20717287063599<br>  ],<br>  \"params\": {<br>    \"c1\": 0.30774726005619596,<br>    \"c2\": 0.34653136481899444,<br>    \"w\": 0.99060683534067,<br>    \"n_particles\": 73<br>  }<br>}",
          "{<br>  \"number\": 64,<br>  \"values\": [<br>    0.5141728520393372,<br>    91.2693817615509<br>  ],<br>  \"params\": {<br>    \"c1\": 0.3496794599484263,<br>    \"c2\": 0.09048060927873719,<br>    \"w\": 0.8847333412018697,<br>    \"n_particles\": 95<br>  }<br>}",
          "{<br>  \"number\": 65,<br>  \"values\": [<br>    0.5830585956573486,<br>    21.237706899642944<br>  ],<br>  \"params\": {<br>    \"c1\": 0.25154071858674687,<br>    \"c2\": 0.21614533293535074,<br>    \"w\": 0.7736330846638496,<br>    \"n_particles\": 22<br>  }<br>}",
          "{<br>  \"number\": 66,<br>  \"values\": [<br>    0.5184226036071777,<br>    39.465900897979736<br>  ],<br>  \"params\": {<br>    \"c1\": 0.7330652896194214,<br>    \"c2\": 0.18368487892004573,<br>    \"w\": 0.8441282315871906,<br>    \"n_particles\": 42<br>  }<br>}",
          "{<br>  \"number\": 67,<br>  \"values\": [<br>    0.5388992428779602,<br>    57.35484504699707<br>  ],<br>  \"params\": {<br>    \"c1\": 0.30062524308563804,<br>    \"c2\": 0.2724994518086334,<br>    \"w\": 0.9625349109435163,<br>    \"n_particles\": 61<br>  }<br>}",
          "{<br>  \"number\": 68,<br>  \"values\": [<br>    0.6105813086032867,<br>    26.325138330459595<br>  ],<br>  \"params\": {<br>    \"c1\": 0.38079445153488267,<br>    \"c2\": 0.10397759880066626,<br>    \"w\": 0.5786572380090552,<br>    \"n_particles\": 28<br>  }<br>}",
          "{<br>  \"number\": 69,<br>  \"values\": [<br>    0.5733203589916229,<br>    16.59885311126709<br>  ],<br>  \"params\": {<br>    \"c1\": 0.196548642132724,<br>    \"c2\": 0.9981042477068273,<br>    \"w\": 0.36822907573316493,<br>    \"n_particles\": 17<br>  }<br>}",
          "{<br>  \"number\": 70,<br>  \"values\": [<br>    0.5263069868087769,<br>    11.131722211837769<br>  ],<br>  \"params\": {<br>    \"c1\": 0.4931675787107913,<br>    \"c2\": 0.763408312907768,<br>    \"w\": 0.46598371913554804,<br>    \"n_particles\": 11<br>  }<br>}",
          "{<br>  \"number\": 71,<br>  \"values\": [<br>    0.7136479020118713,<br>    1.9397494792938232<br>  ],<br>  \"params\": {<br>    \"c1\": 0.33789331491924746,<br>    \"c2\": 0.7524932370451892,<br>    \"w\": 0.4168188465998246,<br>    \"n_particles\": 1<br>  }<br>}",
          "{<br>  \"number\": 72,<br>  \"values\": [<br>    0.6434277296066284,<br>    4.692315578460693<br>  ],<br>  \"params\": {<br>    \"c1\": 0.4938642858231238,<br>    \"c2\": 0.7623363119753384,<br>    \"w\": 0.7936775482788092,<br>    \"n_particles\": 4<br>  }<br>}",
          "{<br>  \"number\": 73,<br>  \"values\": [<br>    0.5791148841381073,<br>    8.180988311767578<br>  ],<br>  \"params\": {<br>    \"c1\": 0.4198105873031887,<br>    \"c2\": 0.9102566139039949,<br>    \"w\": 0.912297394789818,<br>    \"n_particles\": 8<br>  }<br>}",
          "{<br>  \"number\": 74,<br>  \"values\": [<br>    0.6040319800376892,<br>    22.74390459060669<br>  ],<br>  \"params\": {<br>    \"c1\": 0.640145812778223,<br>    \"c2\": 0.5653118582752458,<br>    \"w\": 0.0715004754250268,<br>    \"n_particles\": 24<br>  }<br>}",
          "{<br>  \"number\": 75,<br>  \"values\": [<br>    0.47036421298980713,<br>    11.978988885879517<br>  ],<br>  \"params\": {<br>    \"c1\": 0.5674975338731875,<br>    \"c2\": 0.9558713049125206,<br>    \"w\": 0.5090778657058923,<br>    \"n_particles\": 12<br>  }<br>}",
          "{<br>  \"number\": 76,<br>  \"values\": [<br>    0.5432739853858948,<br>    12.827178478240967<br>  ],<br>  \"params\": {<br>    \"c1\": 0.5490463522851743,<br>    \"c2\": 0.8359840927843971,<br>    \"w\": 0.5111383788176788,<br>    \"n_particles\": 13<br>  }<br>}",
          "{<br>  \"number\": 77,<br>  \"values\": [<br>    0.6334468126296997,<br>    8.342601776123047<br>  ],<br>  \"params\": {<br>    \"c1\": 0.11107503872309912,<br>    \"c2\": 0.9503465147530316,<br>    \"w\": 0.7384274024628371,<br>    \"n_particles\": 8<br>  }<br>}",
          "{<br>  \"number\": 78,<br>  \"values\": [<br>    0.5721192359924316,<br>    5.525204658508301<br>  ],<br>  \"params\": {<br>    \"c1\": 0.16744460402139508,<br>    \"c2\": 0.6922977096114319,<br>    \"w\": 0.9719140819094838,<br>    \"n_particles\": 5<br>  }<br>}",
          "{<br>  \"number\": 79,<br>  \"values\": [<br>    0.5658832788467407,<br>    17.572046995162964<br>  ],<br>  \"params\": {<br>    \"c1\": 0.24857214238266148,<br>    \"c2\": 0.9615754014996479,<br>    \"w\": 0.9432052371764121,<br>    \"n_particles\": 18<br>  }<br>}",
          "{<br>  \"number\": 80,<br>  \"values\": [<br>    0.5572603940963745,<br>    13.951961994171143<br>  ],<br>  \"params\": {<br>    \"c1\": 0.585903026478237,<br>    \"c2\": 0.5294486390945758,<br>    \"w\": 0.23551134325834727,<br>    \"n_particles\": 14<br>  }<br>}",
          "{<br>  \"number\": 82,<br>  \"values\": [<br>    0.6093448400497437,<br>    5.45766282081604<br>  ],<br>  \"params\": {<br>    \"c1\": 0.0460311008983324,<br>    \"c2\": 0.8780421504298026,<br>    \"w\": 0.6453154904241282,<br>    \"n_particles\": 5<br>  }<br>}",
          "{<br>  \"number\": 83,<br>  \"values\": [<br>    0.5894225835800171,<br>    11.112759828567505<br>  ],<br>  \"params\": {<br>    \"c1\": 0.5063962651871142,<br>    \"c2\": 0.9505787805321021,<br>    \"w\": 0.6693319851806756,<br>    \"n_particles\": 11<br>  }<br>}",
          "{<br>  \"number\": 85,<br>  \"values\": [<br>    0.5848029851913452,<br>    9.203747510910034<br>  ],<br>  \"params\": {<br>    \"c1\": 0.4103646831609721,<br>    \"c2\": 0.7754309672629023,<br>    \"w\": 0.6938310155382232,<br>    \"n_particles\": 9<br>  }<br>}",
          "{<br>  \"number\": 86,<br>  \"values\": [<br>    0.7169517874717712,<br>    1.9735190868377686<br>  ],<br>  \"params\": {<br>    \"c1\": 0.4398826593845947,<br>    \"c2\": 0.799624227726583,<br>    \"w\": 0.5902088906799778,<br>    \"n_particles\": 1<br>  }<br>}",
          "{<br>  \"number\": 87,<br>  \"values\": [<br>    0.6459067165851593,<br>    7.584396839141846<br>  ],<br>  \"params\": {<br>    \"c1\": 0.527518732695496,<br>    \"c2\": 0.8642783982113831,<br>    \"w\": 0.542097440433926,<br>    \"n_particles\": 7<br>  }<br>}",
          "{<br>  \"number\": 88,<br>  \"values\": [<br>    0.6348460912704468,<br>    3.8577942848205566<br>  ],<br>  \"params\": {<br>    \"c1\": 0.36628211669212807,<br>    \"c2\": 0.8327263872005022,<br>    \"w\": 0.6160220753842887,<br>    \"n_particles\": 3<br>  }<br>}",
          "{<br>  \"number\": 89,<br>  \"values\": [<br>    0.6079645156860352,<br>    10.266263723373413<br>  ],<br>  \"params\": {<br>    \"c1\": 0.49149280894405334,<br>    \"c2\": 0.9227301263285481,<br>    \"w\": 0.47986286194008193,<br>    \"n_particles\": 10<br>  }<br>}",
          "{<br>  \"number\": 91,<br>  \"values\": [<br>    0.5998732447624207,<br>    6.5259552001953125<br>  ],<br>  \"params\": {<br>    \"c1\": 0.5967577761600436,<br>    \"c2\": 0.9096108353468704,<br>    \"w\": 0.5637963054661521,<br>    \"n_particles\": 6<br>  }<br>}",
          "{<br>  \"number\": 92,<br>  \"values\": [<br>    0.4937852621078491,<br>    13.756520748138428<br>  ],<br>  \"params\": {<br>    \"c1\": 0.6636521719511647,<br>    \"c2\": 0.805722030660303,<br>    \"w\": 0.6987058580566115,<br>    \"n_particles\": 14<br>  }<br>}",
          "{<br>  \"number\": 94,<br>  \"values\": [<br>    0.5879200398921967,<br>    4.740455627441406<br>  ],<br>  \"params\": {<br>    \"c1\": 0.14667657657420613,<br>    \"c2\": 0.8614123352988657,<br>    \"w\": 0.5219659139133032,<br>    \"n_particles\": 4<br>  }<br>}",
          "{<br>  \"number\": 95,<br>  \"values\": [<br>    0.5122911930084229,<br>    11.936294794082642<br>  ],<br>  \"params\": {<br>    \"c1\": 0.5263967318078631,<br>    \"c2\": 0.9333913726416391,<br>    \"w\": 0.44396293054580627,<br>    \"n_particles\": 12<br>  }<br>}",
          "{<br>  \"number\": 96,<br>  \"values\": [<br>    0.6132373213768005,<br>    7.372403621673584<br>  ],<br>  \"params\": {<br>    \"c1\": 0.4800455689163134,<br>    \"c2\": 0.9673493095447764,<br>    \"w\": 0.5927883928337543,<br>    \"n_particles\": 7<br>  }<br>}",
          "{<br>  \"number\": 97,<br>  \"values\": [<br>    0.6271695494651794,<br>    10.347267866134644<br>  ],<br>  \"params\": {<br>    \"c1\": 0.42909243153493554,<br>    \"c2\": 0.975420416845424,<br>    \"w\": 0.5033693994204759,<br>    \"n_particles\": 10<br>  }<br>}",
          "{<br>  \"number\": 98,<br>  \"values\": [<br>    0.4854157567024231,<br>    77.26400923728943<br>  ],<br>  \"params\": {<br>    \"c1\": 0.4008949748129745,<br>    \"c2\": 0.8896063027083834,<br>    \"w\": 0.5476981557588034,<br>    \"n_particles\": 84<br>  }<br>}",
          "{<br>  \"number\": 99,<br>  \"values\": [<br>    0.5816586315631866,<br>    19.338062286376953<br>  ],<br>  \"params\": {<br>    \"c1\": 0.4738670521143195,<br>    \"c2\": 0.736038037113397,<br>    \"w\": 0.47062236602944574,<br>    \"n_particles\": 20<br>  }<br>}",
          "{<br>  \"number\": 100,<br>  \"values\": [<br>    0.5407497882843018,<br>    90.25548005104065<br>  ],<br>  \"params\": {<br>    \"c1\": 0.08994996002140054,<br>    \"c2\": 0.6850266026009719,<br>    \"w\": 0.6264900879606836,<br>    \"n_particles\": 96<br>  }<br>}",
          "{<br>  \"number\": 101,<br>  \"values\": [<br>    0.5933229923248291,<br>    3.6669983863830566<br>  ],<br>  \"params\": {<br>    \"c1\": 0.561543956193768,<br>    \"c2\": 0.9245062855326767,<br>    \"w\": 0.43411700159953015,<br>    \"n_particles\": 3<br>  }<br>}",
          "{<br>  \"number\": 102,<br>  \"values\": [<br>    0.5194560885429382,<br>    56.69750761985779<br>  ],<br>  \"params\": {<br>    \"c1\": 0.04145744503100318,<br>    \"c2\": 0.9388728890581637,<br>    \"w\": 0.49139782798258363,<br>    \"n_particles\": 50<br>  }<br>}",
          "{<br>  \"number\": 103,<br>  \"values\": [<br>    0.48239457607269287,<br>    86.09407305717468<br>  ],<br>  \"params\": {<br>    \"c1\": 0.5309055480895156,<br>    \"c2\": 0.7818064502310196,<br>    \"w\": 0.6029748480385699,<br>    \"n_particles\": 68<br>  }<br>}",
          "{<br>  \"number\": 104,<br>  \"values\": [<br>    0.5354304611682892,<br>    16.569885969161987<br>  ],<br>  \"params\": {<br>    \"c1\": 0.28329703420247904,<br>    \"c2\": 0.8985965254273754,<br>    \"w\": 0.6485642083228359,<br>    \"n_particles\": 12<br>  }<br>}",
          "{<br>  \"number\": 105,<br>  \"values\": [<br>    0.7000245749950409,<br>    2.695227861404419<br>  ],<br>  \"params\": {<br>    \"c1\": 0.39071389762235365,<br>    \"c2\": 0.8203346606024071,<br>    \"w\": 0.5581979325719301,<br>    \"n_particles\": 1<br>  }<br>}",
          "{<br>  \"number\": 107,<br>  \"values\": [<br>    0.5871181488037109,<br>    32.09419274330139<br>  ],<br>  \"params\": {<br>    \"c1\": 0.3354873655060863,<br>    \"c2\": 0.6539387919115043,<br>    \"w\": 0.18892434050700146,<br>    \"n_particles\": 30<br>  }<br>}",
          "{<br>  \"number\": 108,<br>  \"values\": [<br>    0.546871542930603,<br>    56.13605189323425<br>  ],<br>  \"params\": {<br>    \"c1\": 0.3259700055885302,<br>    \"c2\": 0.6583401839916607,<br>    \"w\": 0.02919383164641054,<br>    \"n_particles\": 61<br>  }<br>}",
          "{<br>  \"number\": 109,<br>  \"values\": [<br>    0.4932289719581604,<br>    81.2886803150177<br>  ],<br>  \"params\": {<br>    \"c1\": 0.35995114849629817,<br>    \"c2\": 0.6082887552295122,<br>    \"w\": 0.36899482024814867,<br>    \"n_particles\": 89<br>  }<br>}",
          "{<br>  \"number\": 110,<br>  \"values\": [<br>    0.535727322101593,<br>    68.7756416797638<br>  ],<br>  \"params\": {<br>    \"c1\": 0.30148235644643084,<br>    \"c2\": 0.6251508358714412,<br>    \"w\": 0.3183480709500061,<br>    \"n_particles\": 74<br>  }<br>}",
          "{<br>  \"number\": 111,<br>  \"values\": [<br>    0.5657181739807129,<br>    33.54592490196228<br>  ],<br>  \"params\": {<br>    \"c1\": 0.34536395228637534,<br>    \"c2\": 0.7320910957474418,<br>    \"w\": 0.4262674016990078,<br>    \"n_particles\": 35<br>  }<br>}",
          "{<br>  \"number\": 112,<br>  \"values\": [<br>    0.6335635185241699,<br>    3.800259590148926<br>  ],<br>  \"params\": {<br>    \"c1\": 0.2374934470681293,<br>    \"c2\": 0.6119603511443764,<br>    \"w\": 0.15953042237659576,<br>    \"n_particles\": 3<br>  }<br>}",
          "{<br>  \"number\": 113,<br>  \"values\": [<br>    0.7092961072921753,<br>    1.9210596084594727<br>  ],<br>  \"params\": {<br>    \"c1\": 0.0052436933465769275,<br>    \"c2\": 0.7033735511075608,<br>    \"w\": 0.529408243062053,<br>    \"n_particles\": 1<br>  }<br>}",
          "{<br>  \"number\": 114,<br>  \"values\": [<br>    0.5629660487174988,<br>    37.15855622291565<br>  ],<br>  \"params\": {<br>    \"c1\": 0.28458514816111435,<br>    \"c2\": 0.6733239713348667,<br>    \"w\": 0.5300678962173913,<br>    \"n_particles\": 39<br>  }<br>}",
          "{<br>  \"number\": 115,<br>  \"values\": [<br>    0.5978302359580994,<br>    6.412744760513306<br>  ],<br>  \"params\": {<br>    \"c1\": 0.3150552817872284,<br>    \"c2\": 0.704295329601111,<br>    \"w\": 0.5258330211538756,<br>    \"n_particles\": 6<br>  }<br>}",
          "{<br>  \"number\": 116,<br>  \"values\": [<br>    0.4857015609741211,<br>    52.742716789245605<br>  ],<br>  \"params\": {<br>    \"c1\": 0.2180668229474434,<br>    \"c2\": 0.5905898917330262,<br>    \"w\": 0.43649040223382835,<br>    \"n_particles\": 52<br>  }<br>}",
          "{<br>  \"number\": 117,<br>  \"values\": [<br>    0.5180754065513611,<br>    64.1524453163147<br>  ],<br>  \"params\": {<br>    \"c1\": 0.2747261160152964,<br>    \"c2\": 0.6638022873767176,<br>    \"w\": 0.5836819838382723,<br>    \"n_particles\": 46<br>  }<br>}",
          "{<br>  \"number\": 118,<br>  \"values\": [<br>    0.5557376444339752,<br>    11.50466537475586<br>  ],<br>  \"params\": {<br>    \"c1\": 0.3621880079155331,<br>    \"c2\": 0.7149131631627043,<br>    \"w\": 0.38681034391818075,<br>    \"n_particles\": 8<br>  }<br>}",
          "{<br>  \"number\": 119,<br>  \"values\": [<br>    0.5988664627075195,<br>    4.4911651611328125<br>  ],<br>  \"params\": {<br>    \"c1\": 0.25692502485103236,<br>    \"c2\": 0.6383692488006197,<br>    \"w\": 0.5554597264977879,<br>    \"n_particles\": 3<br>  }<br>}",
          "{<br>  \"number\": 120,<br>  \"values\": [<br>    0.5595225095748901,<br>    64.75776958465576<br>  ],<br>  \"params\": {<br>    \"c1\": 0.29856730124777797,<br>    \"c2\": 0.5224798401487213,<br>    \"w\": 0.27520172983053703,<br>    \"n_particles\": 61<br>  }<br>}",
          "{<br>  \"number\": 121,<br>  \"values\": [<br>    0.641703724861145,<br>    5.367995023727417<br>  ],<br>  \"params\": {<br>    \"c1\": 0.0011518501263976244,<br>    \"c2\": 0.6910386795002731,<br>    \"w\": 0.0666880281552944,<br>    \"n_particles\": 5<br>  }<br>}",
          "{<br>  \"number\": 123,<br>  \"values\": [<br>    0.7000442147254944,<br>    2.749235153198242<br>  ],<br>  \"params\": {<br>    \"c1\": 0.18918538269444726,<br>    \"c2\": 0.6114495847480386,<br>    \"w\": 0.5001378487504419,<br>    \"n_particles\": 2<br>  }<br>}",
          "{<br>  \"number\": 124,<br>  \"values\": [<br>    0.49468761682510376,<br>    40.32575225830078<br>  ],<br>  \"params\": {<br>    \"c1\": 0.3224836886558344,<br>    \"c2\": 0.5871908938894902,<br>    \"w\": 0.46618717340890514,<br>    \"n_particles\": 43<br>  }<br>}",
          "{<br>  \"number\": 125,<br>  \"values\": [<br>    0.43469756841659546,<br>    52.842565059661865<br>  ],<br>  \"params\": {<br>    \"c1\": 0.3666349267080701,<br>    \"c2\": 0.5636675179620299,<br>    \"w\": 0.5370585953110332,<br>    \"n_particles\": 57<br>  }<br>}",
          "{<br>  \"number\": 126,<br>  \"values\": [<br>    0.5225579738616943,<br>    52.40885043144226<br>  ],<br>  \"params\": {<br>    \"c1\": 0.4282078360531271,<br>    \"c2\": 0.8597316536951137,<br>    \"w\": 0.4858726573837415,<br>    \"n_particles\": 57<br>  }<br>}",
          "{<br>  \"number\": 127,<br>  \"values\": [<br>    0.5078713893890381,<br>    48.63126254081726<br>  ],<br>  \"params\": {<br>    \"c1\": 0.4574045464571348,<br>    \"c2\": 0.8771940888343525,<br>    \"w\": 0.5362404208960152,<br>    \"n_particles\": 52<br>  }<br>}",
          "{<br>  \"number\": 128,<br>  \"values\": [<br>    0.46788156032562256,<br>    50.90964102745056<br>  ],<br>  \"params\": {<br>    \"c1\": 0.4553773449635652,<br>    \"c2\": 0.5517567574450156,<br>    \"w\": 0.5647399267837016,<br>    \"n_particles\": 54<br>  }<br>}",
          "{<br>  \"number\": 129,<br>  \"values\": [<br>    0.5186896920204163,<br>    54.44469594955444<br>  ],<br>  \"params\": {<br>    \"c1\": 0.47411613494068827,<br>    \"c2\": 0.894990956681744,<br>    \"w\": 0.514484445913374,<br>    \"n_particles\": 59<br>  }<br>}",
          "{<br>  \"number\": 130,<br>  \"values\": [<br>    0.5270279943943024,<br>    44.315444469451904<br>  ],<br>  \"params\": {<br>    \"c1\": 0.5146380379421422,<br>    \"c2\": 0.8464521509730072,<br>    \"w\": 0.5072788535710561,<br>    \"n_particles\": 48<br>  }<br>}",
          "{<br>  \"number\": 131,<br>  \"values\": [<br>    0.5443134903907776,<br>    37.33467650413513<br>  ],<br>  \"params\": {<br>    \"c1\": 0.4311263808147211,<br>    \"c2\": 0.9813385584476622,<br>    \"w\": 0.4541881632355474,<br>    \"n_particles\": 40<br>  }<br>}",
          "{<br>  \"number\": 132,<br>  \"values\": [<br>    0.5505837202072144,<br>    31.899385929107666<br>  ],<br>  \"params\": {<br>    \"c1\": 0.5573235783371007,<br>    \"c2\": 0.9312332088918227,<br>    \"w\": 0.5437569825770644,<br>    \"n_particles\": 33<br>  }<br>}",
          "{<br>  \"number\": 133,<br>  \"values\": [<br>    0.4681767225265503,<br>    60.014572858810425<br>  ],<br>  \"params\": {<br>    \"c1\": 0.3999629639911387,<br>    \"c2\": 0.6321443509470334,<br>    \"w\": 0.48068889520562846,<br>    \"n_particles\": 64<br>  }<br>}",
          "{<br>  \"number\": 134,<br>  \"values\": [<br>    0.5794936418533325,<br>    34.31489419937134<br>  ],<br>  \"params\": {<br>    \"c1\": 0.14993173770667817,<br>    \"c2\": 0.9510885821286755,<br>    \"w\": 0.5756757316260291,<br>    \"n_particles\": 37<br>  }<br>}",
          "{<br>  \"number\": 135,<br>  \"values\": [<br>    0.5355694591999054,<br>    21.388534784317017<br>  ],<br>  \"params\": {<br>    \"c1\": 0.4693785674409614,<br>    \"c2\": 0.9149894015865104,<br>    \"w\": 0.521548981830761,<br>    \"n_particles\": 23<br>  }<br>}",
          "{<br>  \"number\": 136,<br>  \"values\": [<br>    0.48048144578933716,<br>    65.47073769569397<br>  ],<br>  \"params\": {<br>    \"c1\": 0.06721240423722297,<br>    \"c2\": 0.4969587590316687,<br>    \"w\": 0.5987494113806707,<br>    \"n_particles\": 71<br>  }<br>}",
          "{<br>  \"number\": 137,<br>  \"values\": [<br>    0.5539824366569519,<br>    95.09271454811096<br>  ],<br>  \"params\": {<br>    \"c1\": 0.4414765538093511,<br>    \"c2\": 0.44716917067685347,<br>    \"w\": 0.5029007616967698,<br>    \"n_particles\": 81<br>  }<br>}",
          "{<br>  \"number\": 138,<br>  \"values\": [<br>    0.47808051109313965,<br>    37.19632816314697<br>  ],<br>  \"params\": {<br>    \"c1\": 0.5726176535639502,<br>    \"c2\": 0.6781602186739406,<br>    \"w\": 0.5497456867949767,<br>    \"n_particles\": 32<br>  }<br>}",
          "{<br>  \"number\": 139,<br>  \"values\": [<br>    0.5633156895637512,<br>    23.370884656906128<br>  ],<br>  \"params\": {<br>    \"c1\": 0.3818218835519277,<br>    \"c2\": 0.5755612471643665,<br>    \"w\": 0.460879515295402,<br>    \"n_particles\": 25<br>  }<br>}",
          "{<br>  \"number\": 140,<br>  \"values\": [<br>    0.46487510204315186,<br>    100.90851783752441<br>  ],<br>  \"params\": {<br>    \"c1\": 0.5448003580467704,<br>    \"c2\": 0.9105717895635095,<br>    \"w\": 0.5319011940285332,<br>    \"n_particles\": 88<br>  }<br>}",
          "{<br>  \"number\": 141,<br>  \"values\": [<br>    0.6007499098777771,<br>    12.103742837905884<br>  ],<br>  \"params\": {<br>    \"c1\": 0.34447974932020164,<br>    \"c2\": 0.8809988065447364,<br>    \"w\": 0.48821233823440774,<br>    \"n_particles\": 8<br>  }<br>}",
          "{<br>  \"number\": 142,<br>  \"values\": [<br>    0.5993438065052032,<br>    64.66134643554688<br>  ],<br>  \"params\": {<br>    \"c1\": 0.37344779521619864,<br>    \"c2\": 0.994087468975019,<br>    \"w\": 0.5789219670744779,<br>    \"n_particles\": 43<br>  }<br>}",
          "{<br>  \"number\": 144,<br>  \"values\": [<br>    0.5595548748970032,<br>    34.78870916366577<br>  ],<br>  \"params\": {<br>    \"c1\": 0.4147420373647347,<br>    \"c2\": 0.651256173531525,<br>    \"w\": 0.5140140020815288,<br>    \"n_particles\": 28<br>  }<br>}",
          "{<br>  \"number\": 145,<br>  \"values\": [<br>    0.5316495299339294,<br>    17.31373691558838<br>  ],<br>  \"params\": {<br>    \"c1\": 0.6145897101956062,<br>    \"c2\": 0.7155232173746097,<br>    \"w\": 0.49598204641227595,<br>    \"n_particles\": 18<br>  }<br>}",
          "{<br>  \"number\": 146,<br>  \"values\": [<br>    0.4794355034828186,<br>    14.645134449005127<br>  ],<br>  \"params\": {<br>    \"c1\": 0.40013846984022405,<br>    \"c2\": 0.625009072173996,<br>    \"w\": 0.5527192394807695,<br>    \"n_particles\": 15<br>  }<br>}",
          "{<br>  \"number\": 147,<br>  \"values\": [<br>    0.5401862263679504,<br>    19.947559595108032<br>  ],<br>  \"params\": {<br>    \"c1\": 0.4955351825350732,<br>    \"c2\": 0.6689607651619256,<br>    \"w\": 0.4747437450554255,<br>    \"n_particles\": 21<br>  }<br>}",
          "{<br>  \"number\": 148,<br>  \"values\": [<br>    0.6177375912666321,<br>    9.15676498413086<br>  ],<br>  \"params\": {<br>    \"c1\": 0.45805281120254554,<br>    \"c2\": 0.599287767142597,<br>    \"w\": 0.4351858123648452,<br>    \"n_particles\": 9<br>  }<br>}",
          "{<br>  \"number\": 149,<br>  \"values\": [<br>    0.5930808186531067,<br>    5.458408832550049<br>  ],<br>  \"params\": {<br>    \"c1\": 0.4189831121743058,<br>    \"c2\": 0.7393496360065743,<br>    \"w\": 0.5295419934265831,<br>    \"n_particles\": 5<br>  }<br>}",
          "{<br>  \"number\": 150,<br>  \"values\": [<br>    0.5750116109848022,<br>    24.971760272979736<br>  ],<br>  \"params\": {<br>    \"c1\": 0.4492418520003246,<br>    \"c2\": 0.6312633650599806,<br>    \"w\": 0.4536582693204766,<br>    \"n_particles\": 26<br>  }<br>}",
          "{<br>  \"number\": 153,<br>  \"values\": [<br>    0.5713369846343994,<br>    33.59358763694763<br>  ],<br>  \"params\": {<br>    \"c1\": 0.35897488202300437,<br>    \"c2\": 0.6464273520215871,<br>    \"w\": 0.5634717267692434,<br>    \"n_particles\": 36<br>  }<br>}",
          "{<br>  \"number\": 154,<br>  \"values\": [<br>    0.5935215353965759,<br>    5.704672813415527<br>  ],<br>  \"params\": {<br>    \"c1\": 0.3237277880980812,<br>    \"c2\": 0.6836930341882828,<br>    \"w\": 0.49506937745636204,<br>    \"n_particles\": 5<br>  }<br>}",
          "{<br>  \"number\": 155,<br>  \"values\": [<br>    0.5889266133308411,<br>    7.6227028369903564<br>  ],<br>  \"params\": {<br>    \"c1\": 0.3742488880515891,<br>    \"c2\": 0.64941517412929,<br>    \"w\": 0.6248896508679002,<br>    \"n_particles\": 7<br>  }<br>}",
          "{<br>  \"number\": 157,<br>  \"values\": [<br>    0.5924840569496155,<br>    10.372669219970703<br>  ],<br>  \"params\": {<br>    \"c1\": 0.3498985125229625,<br>    \"c2\": 0.6655936488464748,<br>    \"w\": 0.6023915866359562,<br>    \"n_particles\": 10<br>  }<br>}",
          "{<br>  \"number\": 158,<br>  \"values\": [<br>    0.5588554739952087,<br>    28.764650583267212<br>  ],<br>  \"params\": {<br>    \"c1\": 0.30837681368075476,<br>    \"c2\": 0.6183080355158451,<br>    \"w\": 0.5123212192408387,<br>    \"n_particles\": 30<br>  }<br>}",
          "{<br>  \"number\": 159,<br>  \"values\": [<br>    0.5291728973388672,<br>    12.99324345588684<br>  ],<br>  \"params\": {<br>    \"c1\": 0.7631189226171375,<br>    \"c2\": 0.6865569717592527,<br>    \"w\": 0.7479020347672988,<br>    \"n_particles\": 13<br>  }<br>}",
          "{<br>  \"number\": 160,<br>  \"values\": [<br>    0.6236773133277893,<br>    17.64234972000122<br>  ],<br>  \"params\": {<br>    \"c1\": 0.3913953351783812,<br>    \"c2\": 0.7220120193090578,<br>    \"w\": 0.12254512557825459,<br>    \"n_particles\": 18<br>  }<br>}",
          "{<br>  \"number\": 161,<br>  \"values\": [<br>    0.6019612550735474,<br>    3.722318172454834<br>  ],<br>  \"params\": {<br>    \"c1\": 0.33202642117151066,<br>    \"c2\": 0.6541193642527089,<br>    \"w\": 0.0024092678177094484,<br>    \"n_particles\": 3<br>  }<br>}",
          "{<br>  \"number\": 162,<br>  \"values\": [<br>    0.5516218543052673,<br>    6.550460338592529<br>  ],<br>  \"params\": {<br>    \"c1\": 0.2946964350074653,<br>    \"c2\": 0.6708380549488221,<br>    \"w\": 0.5548838834523376,<br>    \"n_particles\": 6<br>  }<br>}",
          "{<br>  \"number\": 163,<br>  \"values\": [<br>    0.5763384103775024,<br>    15.937645673751831<br>  ],<br>  \"params\": {<br>    \"c1\": 0.2932989118327887,<br>    \"c2\": 0.6054954344795384,<br>    \"w\": 0.5442169095615679,<br>    \"n_particles\": 16<br>  }<br>}",
          "{<br>  \"number\": 164,<br>  \"values\": [<br>    0.6035805344581604,<br>    6.4414451122283936<br>  ],<br>  \"params\": {<br>    \"c1\": 0.3225625306201551,<br>    \"c2\": 0.6337664772236651,<br>    \"w\": 0.48462773483342375,<br>    \"n_particles\": 6<br>  }<br>}",
          "{<br>  \"number\": 165,<br>  \"values\": [<br>    0.4956963062286377,<br>    22.442655086517334<br>  ],<br>  \"params\": {<br>    \"c1\": 0.2666042370748091,<br>    \"c2\": 0.39380624127532154,<br>    \"w\": 0.5603035227618968,<br>    \"n_particles\": 23<br>  }<br>}",
          "{<br>  \"number\": 166,<br>  \"values\": [<br>    0.40551328659057617,<br>    93.0610945224762<br>  ],<br>  \"params\": {<br>    \"c1\": 0.35410507852589557,<br>    \"c2\": 0.5691698729802753,<br>    \"w\": 0.5378116871173647,<br>    \"n_particles\": 98<br>  }<br>}",
          "{<br>  \"number\": 167,<br>  \"values\": [<br>    0.583745002746582,<br>    93.56071257591248<br>  ],<br>  \"params\": {<br>    \"c1\": 0.80431414832802,<br>    \"c2\": 0.5364871760763595,<br>    \"w\": 0.16000067311808197,<br>    \"n_particles\": 99<br>  }<br>}",
          "{<br>  \"number\": 168,<br>  \"values\": [<br>    0.5334435105323792,<br>    60.45765662193298<br>  ],<br>  \"params\": {<br>    \"c1\": 0.4089015649281773,<br>    \"c2\": 0.5927920913049738,<br>    \"w\": 0.3469510077216231,<br>    \"n_particles\": 64<br>  }<br>}",
          "{<br>  \"number\": 169,<br>  \"values\": [<br>    0.5482509732246399,<br>    85.02973175048828<br>  ],<br>  \"params\": {<br>    \"c1\": 0.39296430474889843,<br>    \"c2\": 0.5493203391029913,<br>    \"w\": 0.2299726455314236,<br>    \"n_particles\": 93<br>  }<br>}",
          "{<br>  \"number\": 170,<br>  \"values\": [<br>    0.5435011088848114,<br>    72.69546222686768<br>  ],<br>  \"params\": {<br>    \"c1\": 0.7369364938773699,<br>    \"c2\": 0.57087065038629,<br>    \"w\": 0.8157914149785438,<br>    \"n_particles\": 77<br>  }<br>}",
          "{<br>  \"number\": 171,<br>  \"values\": [<br>    0.590400755405426,<br>    43.428101778030396<br>  ],<br>  \"params\": {<br>    \"c1\": 0.3659961203087149,<br>    \"c2\": 0.6700968790060031,<br>    \"w\": 0.07801555812830374,<br>    \"n_particles\": 46<br>  }<br>}",
          "{<br>  \"number\": 173,<br>  \"values\": [<br>    0.5025336146354675,<br>    85.61645245552063<br>  ],<br>  \"params\": {<br>    \"c1\": 0.4331490390444698,<br>    \"c2\": 0.5787865852144424,<br>    \"w\": 0.5283505698232165,<br>    \"n_particles\": 92<br>  }<br>}",
          "{<br>  \"number\": 174,<br>  \"values\": [<br>    0.4840218424797058,<br>    105.22426772117615<br>  ],<br>  \"params\": {<br>    \"c1\": 0.4375878077524199,<br>    \"c2\": 0.6138384588534981,<br>    \"w\": 0.5158571469144823,<br>    \"n_particles\": 84<br>  }<br>}",
          "{<br>  \"number\": 175,<br>  \"values\": [<br>    0.5083828568458557,<br>    115.24857926368713<br>  ],<br>  \"params\": {<br>    \"c1\": 0.47897397728407837,<br>    \"c2\": 0.6402164551615561,<br>    \"w\": 0.5806768180726994,<br>    \"n_particles\": 87<br>  }<br>}",
          "{<br>  \"number\": 176,<br>  \"values\": [<br>    0.4885873794555664,<br>    95.03826975822449<br>  ],<br>  \"params\": {<br>    \"c1\": 0.45565866421472656,<br>    \"c2\": 0.5996838589209724,<br>    \"w\": 0.49737782002374414,<br>    \"n_particles\": 67<br>  }<br>}",
          "{<br>  \"number\": 177,<br>  \"values\": [<br>    0.5199033617973328,<br>    75.17808675765991<br>  ],<br>  \"params\": {<br>    \"c1\": 0.4122824240882742,<br>    \"c2\": 0.6202573647051038,<br>    \"w\": 0.5369690110964158,<br>    \"n_particles\": 56<br>  }<br>}",
          "{<br>  \"number\": 178,<br>  \"values\": [<br>    0.5371879935264587,<br>    100.8005599975586<br>  ],<br>  \"params\": {<br>    \"c1\": 0.42664158421448445,<br>    \"c2\": 0.6424318477577906,<br>    \"w\": 0.2500115256802841,<br>    \"n_particles\": 73<br>  }<br>}",
          "{<br>  \"number\": 179,<br>  \"values\": [<br>    0.618175208568573,<br>    106.8672685623169<br>  ],<br>  \"params\": {<br>    \"c1\": 0.44718026674041567,<br>    \"c2\": 0.029688327215513288,<br>    \"w\": 0.4752969913750298,<br>    \"n_particles\": 98<br>  }<br>}",
          "{<br>  \"number\": 180,<br>  \"values\": [<br>    0.48748964071273804,<br>    65.61131691932678<br>  ],<br>  \"params\": {<br>    \"c1\": 0.39378768350365917,<br>    \"c2\": 0.5585325195093873,<br>    \"w\": 0.5158119272707558,<br>    \"n_particles\": 70<br>  }<br>}",
          "{<br>  \"number\": 181,<br>  \"values\": [<br>    0.45675355195999146,<br>    79.20967316627502<br>  ],<br>  \"params\": {<br>    \"c1\": 0.41884709779314977,<br>    \"c2\": 0.6267191870486876,<br>    \"w\": 0.5528940997913018,<br>    \"n_particles\": 86<br>  }<br>}",
          "{<br>  \"number\": 182,<br>  \"values\": [<br>    0.4070068597793579,<br>    83.78915739059448<br>  ],<br>  \"params\": {<br>    \"c1\": 0.4796594693100907,<br>    \"c2\": 0.5879959259528406,<br>    \"w\": 0.5411568844239867,<br>    \"n_particles\": 91<br>  }<br>}",
          "{<br>  \"number\": 183,<br>  \"values\": [<br>    0.5212340950965881,<br>    73.68008160591125<br>  ],<br>  \"params\": {<br>    \"c1\": 0.47297520846469504,<br>    \"c2\": 0.6624920057819661,<br>    \"w\": 0.5012694794564129,<br>    \"n_particles\": 79<br>  }<br>}",
          "{<br>  \"number\": 184,<br>  \"values\": [<br>    0.4845432639122009,<br>    73.70861601829529<br>  ],<br>  \"params\": {<br>    \"c1\": 0.5096323117513022,<br>    \"c2\": 0.6951203593725233,<br>    \"w\": 0.5650052568778883,<br>    \"n_particles\": 76<br>  }<br>}",
          "{<br>  \"number\": 185,<br>  \"values\": [<br>    0.479412317276001,<br>    87.82923603057861<br>  ],<br>  \"params\": {<br>    \"c1\": 0.38596534418805595,<br>    \"c2\": 0.6747795572753014,<br>    \"w\": 0.46894954490291446,<br>    \"n_particles\": 91<br>  }<br>}",
          "{<br>  \"number\": 186,<br>  \"values\": [<br>    0.5631371736526489,<br>    46.39413046836853<br>  ],<br>  \"params\": {<br>    \"c1\": 0.41021870235844765,<br>    \"c2\": 0.5955063416643842,<br>    \"w\": 0.5133539928831248,<br>    \"n_particles\": 49<br>  }<br>}",
          "{<br>  \"number\": 187,<br>  \"values\": [<br>    0.4967889189720154,<br>    56.69696021080017<br>  ],<br>  \"params\": {<br>    \"c1\": 0.439081807921298,<br>    \"c2\": 0.6506857874771581,<br>    \"w\": 0.5394451931337063,<br>    \"n_particles\": 59<br>  }<br>}",
          "{<br>  \"number\": 188,<br>  \"values\": [<br>    0.5740302801132202,<br>    38.04771566390991<br>  ],<br>  \"params\": {<br>    \"c1\": 0.38329358165201294,<br>    \"c2\": 0.6277365615795724,<br>    \"w\": 0.4885197528423406,<br>    \"n_particles\": 38<br>  }<br>}",
          "{<br>  \"number\": 189,<br>  \"values\": [<br>    0.5332450866699219,<br>    40.20220470428467<br>  ],<br>  \"params\": {<br>    \"c1\": 0.49311768119960153,<br>    \"c2\": 0.7049860731165591,<br>    \"w\": 0.5194353411818831,<br>    \"n_particles\": 41<br>  }<br>}",
          "{<br>  \"number\": 190,<br>  \"values\": [<br>    0.5419347584247589,<br>    85.75752758979797<br>  ],<br>  \"params\": {<br>    \"c1\": 0.3718059792470277,<br>    \"c2\": 0.6076942743470343,<br>    \"w\": 0.8581508672064085,<br>    \"n_particles\": 95<br>  }<br>}",
          "{<br>  \"number\": 191,<br>  \"values\": [<br>    0.591707319021225,<br>    31.49710488319397<br>  ],<br>  \"params\": {<br>    \"c1\": 0.46396185262756817,<br>    \"c2\": 0.6974923675106622,<br>    \"w\": 0.7788857133571452,<br>    \"n_particles\": 34<br>  }<br>}",
          "{<br>  \"number\": 192,<br>  \"values\": [<br>    0.4752727746963501,<br>    71.10299825668335<br>  ],<br>  \"params\": {<br>    \"c1\": 0.6761820370067891,<br>    \"c2\": 0.6600085001573989,<br>    \"w\": 0.5282942474131682,<br>    \"n_particles\": 75<br>  }<br>}",
          "{<br>  \"number\": 193,<br>  \"values\": [<br>    0.5828354358673096,<br>    42.93290328979492<br>  ],<br>  \"params\": {<br>    \"c1\": 0.4235853131579632,<br>    \"c2\": 0.6404404729252908,<br>    \"w\": 0.49555102532548506,<br>    \"n_particles\": 44<br>  }<br>}",
          "{<br>  \"number\": 194,<br>  \"values\": [<br>    0.5207667946815491,<br>    78.68311214447021<br>  ],<br>  \"params\": {<br>    \"c1\": 0.9908021638491852,<br>    \"c2\": 0.6735113590909982,<br>    \"w\": 0.5486622390020116,<br>    \"n_particles\": 81<br>  }<br>}",
          "{<br>  \"number\": 195,<br>  \"values\": [<br>    0.5397582650184631,<br>    50.06350803375244<br>  ],<br>  \"params\": {<br>    \"c1\": 0.401109796967341,<br>    \"c2\": 0.6196630144588366,<br>    \"w\": 0.45653143133157287,<br>    \"n_particles\": 53<br>  }<br>}",
          "{<br>  \"number\": 196,<br>  \"values\": [<br>    0.5296369194984436,<br>    30.65513253211975<br>  ],<br>  \"params\": {<br>    \"c1\": 0.4474032989816297,<br>    \"c2\": 0.4373532404539531,<br>    \"w\": 0.5285621503513184,<br>    \"n_particles\": 31<br>  }<br>}",
          "{<br>  \"number\": 197,<br>  \"values\": [<br>    0.4704515337944031,<br>    68.5393054485321<br>  ],<br>  \"params\": {<br>    \"c1\": 0.8583506728422081,<br>    \"c2\": 0.6427500395565054,<br>    \"w\": 0.5869812761881822,<br>    \"n_particles\": 71<br>  }<br>}",
          "{<br>  \"number\": 198,<br>  \"values\": [<br>    0.5635369420051575,<br>    27.228757619857788<br>  ],<br>  \"params\": {<br>    \"c1\": 0.34388817642645664,<br>    \"c2\": 0.5861101364014971,<br>    \"w\": 0.5628897369683488,<br>    \"n_particles\": 27<br>  }<br>}",
          "{<br>  \"number\": 199,<br>  \"values\": [<br>    0.5502266883850098,<br>    47.62814283370972<br>  ],<br>  \"params\": {<br>    \"c1\": 0.42635034649076287,<br>    \"c2\": 0.6903966143812209,<br>    \"w\": 0.5065566021307598,<br>    \"n_particles\": 48<br>  }<br>}"
         ],
         "type": "scatter",
         "x": [
          0.5557939410209656,
          0.5670615434646606,
          0.5419639348983765,
          0.5589091181755066,
          0.49117547273635864,
          0.5302043557167053,
          0.6067870855331421,
          0.5244007706642151,
          0.5011330842971802,
          0.5637328624725342,
          0.6114583611488342,
          0.5689848065376282,
          0.6163542568683624,
          0.6240193843841553,
          0.512452244758606,
          0.5240111947059631,
          0.5896883308887482,
          0.5995820164680481,
          0.5732330679893494,
          0.5399910509586334,
          0.5412489771842957,
          0.5711183547973633,
          0.5909071862697601,
          0.5405651330947876,
          0.6583252549171448,
          0.5059898495674133,
          0.5825654864311218,
          0.5348272323608398,
          0.6333070993423462,
          0.5541055798530579,
          0.6883001923561096,
          0.581722617149353,
          0.6150358319282532,
          0.7067845463752747,
          0.5339960753917694,
          0.6242920458316803,
          0.6156567335128784,
          0.5649519860744476,
          0.6218419075012207,
          0.5985628366470337,
          0.5818654298782349,
          0.5944798588752747,
          0.541214257478714,
          0.5804020464420319,
          0.6412261426448822,
          0.5463157296180725,
          0.5466005206108093,
          0.6294794976711273,
          0.5960270166397095,
          0.5693463981151581,
          0.7143840193748474,
          0.6109057664871216,
          0.5866608619689941,
          0.5269527435302734,
          0.6303187608718872,
          0.5890574157238007,
          0.5807303190231323,
          0.5272672772407532,
          0.6220384836196899,
          0.7211641371250153,
          0.5267005562782288,
          0.5141728520393372,
          0.5830585956573486,
          0.5184226036071777,
          0.5388992428779602,
          0.6105813086032867,
          0.5733203589916229,
          0.5263069868087769,
          0.7136479020118713,
          0.6434277296066284,
          0.5791148841381073,
          0.6040319800376892,
          0.47036421298980713,
          0.5432739853858948,
          0.6334468126296997,
          0.5721192359924316,
          0.5658832788467407,
          0.5572603940963745,
          0.6093448400497437,
          0.5894225835800171,
          0.5848029851913452,
          0.7169517874717712,
          0.6459067165851593,
          0.6348460912704468,
          0.6079645156860352,
          0.5998732447624207,
          0.4937852621078491,
          0.5879200398921967,
          0.5122911930084229,
          0.6132373213768005,
          0.6271695494651794,
          0.4854157567024231,
          0.5816586315631866,
          0.5407497882843018,
          0.5933229923248291,
          0.5194560885429382,
          0.48239457607269287,
          0.5354304611682892,
          0.7000245749950409,
          0.5871181488037109,
          0.546871542930603,
          0.4932289719581604,
          0.535727322101593,
          0.5657181739807129,
          0.6335635185241699,
          0.7092961072921753,
          0.5629660487174988,
          0.5978302359580994,
          0.4857015609741211,
          0.5180754065513611,
          0.5557376444339752,
          0.5988664627075195,
          0.5595225095748901,
          0.641703724861145,
          0.7000442147254944,
          0.49468761682510376,
          0.43469756841659546,
          0.5225579738616943,
          0.5078713893890381,
          0.46788156032562256,
          0.5186896920204163,
          0.5270279943943024,
          0.5443134903907776,
          0.5505837202072144,
          0.4681767225265503,
          0.5794936418533325,
          0.5355694591999054,
          0.48048144578933716,
          0.5539824366569519,
          0.47808051109313965,
          0.5633156895637512,
          0.46487510204315186,
          0.6007499098777771,
          0.5993438065052032,
          0.5595548748970032,
          0.5316495299339294,
          0.4794355034828186,
          0.5401862263679504,
          0.6177375912666321,
          0.5930808186531067,
          0.5750116109848022,
          0.5713369846343994,
          0.5935215353965759,
          0.5889266133308411,
          0.5924840569496155,
          0.5588554739952087,
          0.5291728973388672,
          0.6236773133277893,
          0.6019612550735474,
          0.5516218543052673,
          0.5763384103775024,
          0.6035805344581604,
          0.4956963062286377,
          0.40551328659057617,
          0.583745002746582,
          0.5334435105323792,
          0.5482509732246399,
          0.5435011088848114,
          0.590400755405426,
          0.5025336146354675,
          0.4840218424797058,
          0.5083828568458557,
          0.4885873794555664,
          0.5199033617973328,
          0.5371879935264587,
          0.618175208568573,
          0.48748964071273804,
          0.45675355195999146,
          0.4070068597793579,
          0.5212340950965881,
          0.4845432639122009,
          0.479412317276001,
          0.5631371736526489,
          0.4967889189720154,
          0.5740302801132202,
          0.5332450866699219,
          0.5419347584247589,
          0.591707319021225,
          0.4752727746963501,
          0.5828354358673096,
          0.5207667946815491,
          0.5397582650184631,
          0.5296369194984436,
          0.4704515337944031,
          0.5635369420051575,
          0.5502266883850098
         ],
         "y": [
          46.196460008621216,
          10.903122663497925,
          105.68414545059204,
          73.92685103416443,
          27.647370100021362,
          76.79286646842957,
          6.121327638626099,
          69.59890270233154,
          107.16769886016846,
          5.646910190582275,
          28.93617534637451,
          21.554579973220825,
          24.650926113128662,
          3.7936999797821045,
          15.665725469589233,
          14.853394269943237,
          44.95212197303772,
          54.00006699562073,
          15.257722616195679,
          34.484766721725464,
          17.422841787338257,
          24.481915950775146,
          4.18756628036499,
          106.82813310623169,
          9.934156656265259,
          82.44923067092896,
          31.103813886642456,
          54.574219942092896,
          6.51220965385437,
          19.082549810409546,
          2.9048731327056885,
          11.893155336380005,
          9.2169828414917,
          2.9656758308410645,
          59.38185453414917,
          11.39980936050415,
          32.43006205558777,
          19.379711151123047,
          9.113144636154175,
          71.33443593978882,
          27.63022780418396,
          4.831836223602295,
          11.07811689376831,
          13.055604219436646,
          9.000896453857422,
          29.01978826522827,
          22.3205783367157,
          12.81482982635498,
          6.518858194351196,
          86.1701135635376,
          1.8790106773376465,
          32.491188287734985,
          13.695827007293701,
          53.377121925354004,
          6.369996786117554,
          10.533624649047852,
          15.246661901473999,
          83.1809310913086,
          3.8131961822509766,
          1.9298467636108398,
          68.20717287063599,
          91.2693817615509,
          21.237706899642944,
          39.465900897979736,
          57.35484504699707,
          26.325138330459595,
          16.59885311126709,
          11.131722211837769,
          1.9397494792938232,
          4.692315578460693,
          8.180988311767578,
          22.74390459060669,
          11.978988885879517,
          12.827178478240967,
          8.342601776123047,
          5.525204658508301,
          17.572046995162964,
          13.951961994171143,
          5.45766282081604,
          11.112759828567505,
          9.203747510910034,
          1.9735190868377686,
          7.584396839141846,
          3.8577942848205566,
          10.266263723373413,
          6.5259552001953125,
          13.756520748138428,
          4.740455627441406,
          11.936294794082642,
          7.372403621673584,
          10.347267866134644,
          77.26400923728943,
          19.338062286376953,
          90.25548005104065,
          3.6669983863830566,
          56.69750761985779,
          86.09407305717468,
          16.569885969161987,
          2.695227861404419,
          32.09419274330139,
          56.13605189323425,
          81.2886803150177,
          68.7756416797638,
          33.54592490196228,
          3.800259590148926,
          1.9210596084594727,
          37.15855622291565,
          6.412744760513306,
          52.742716789245605,
          64.1524453163147,
          11.50466537475586,
          4.4911651611328125,
          64.75776958465576,
          5.367995023727417,
          2.749235153198242,
          40.32575225830078,
          52.842565059661865,
          52.40885043144226,
          48.63126254081726,
          50.90964102745056,
          54.44469594955444,
          44.315444469451904,
          37.33467650413513,
          31.899385929107666,
          60.014572858810425,
          34.31489419937134,
          21.388534784317017,
          65.47073769569397,
          95.09271454811096,
          37.19632816314697,
          23.370884656906128,
          100.90851783752441,
          12.103742837905884,
          64.66134643554688,
          34.78870916366577,
          17.31373691558838,
          14.645134449005127,
          19.947559595108032,
          9.15676498413086,
          5.458408832550049,
          24.971760272979736,
          33.59358763694763,
          5.704672813415527,
          7.6227028369903564,
          10.372669219970703,
          28.764650583267212,
          12.99324345588684,
          17.64234972000122,
          3.722318172454834,
          6.550460338592529,
          15.937645673751831,
          6.4414451122283936,
          22.442655086517334,
          93.0610945224762,
          93.56071257591248,
          60.45765662193298,
          85.02973175048828,
          72.69546222686768,
          43.428101778030396,
          85.61645245552063,
          105.22426772117615,
          115.24857926368713,
          95.03826975822449,
          75.17808675765991,
          100.8005599975586,
          106.8672685623169,
          65.61131691932678,
          79.20967316627502,
          83.78915739059448,
          73.68008160591125,
          73.70861601829529,
          87.82923603057861,
          46.39413046836853,
          56.69696021080017,
          38.04771566390991,
          40.20220470428467,
          85.75752758979797,
          31.49710488319397,
          71.10299825668335,
          42.93290328979492,
          78.68311214447021,
          50.06350803375244,
          30.65513253211975,
          68.5393054485321,
          27.228757619857788,
          47.62814283370972
         ]
        },
        {
         "hovertemplate": "%{text}<extra>Best Trial</extra>",
         "marker": {
          "color": [
           20,
           42,
           44,
           81,
           84,
           90,
           93,
           106,
           122,
           143,
           151,
           152,
           156,
           172
          ],
          "colorbar": {
           "title": {
            "text": "Best Trial"
           },
           "x": 1.1,
           "xpad": 40
          },
          "colorscale": [
           [
            0,
            "rgb(255,245,240)"
           ],
           [
            0.125,
            "rgb(254,224,210)"
           ],
           [
            0.25,
            "rgb(252,187,161)"
           ],
           [
            0.375,
            "rgb(252,146,114)"
           ],
           [
            0.5,
            "rgb(251,106,74)"
           ],
           [
            0.625,
            "rgb(239,59,44)"
           ],
           [
            0.75,
            "rgb(203,24,29)"
           ],
           [
            0.875,
            "rgb(165,15,21)"
           ],
           [
            1,
            "rgb(103,0,13)"
           ]
          ],
          "line": {
           "color": "Grey",
           "width": 0.5
          }
         },
         "mode": "markers",
         "showlegend": false,
         "text": [
          "{<br>  \"number\": 20,<br>  \"values\": [<br>    0.6936571598052979,<br>    2.6777970790863037<br>  ],<br>  \"params\": {<br>    \"c1\": 0.32829059977582264,<br>    \"c2\": 0.6343203886163957,<br>    \"w\": 0.3617242061541432,<br>    \"n_particles\": 1<br>  }<br>}",
          "{<br>  \"number\": 42,<br>  \"values\": [<br>    0.4611651301383972,<br>    13.513263702392578<br>  ],<br>  \"params\": {<br>    \"c1\": 0.8997157384609296,<br>    \"c2\": 0.20564133865947495,<br>    \"w\": 0.6950908102497452,<br>    \"n_particles\": 13<br>  }<br>}",
          "{<br>  \"number\": 44,<br>  \"values\": [<br>    0.6940037906169891,<br>    2.0012612342834473<br>  ],<br>  \"params\": {<br>    \"c1\": 0.921048866091204,<br>    \"c2\": 0.33355579731934915,<br>    \"w\": 0.4828887553218767,<br>    \"n_particles\": 1<br>  }<br>}",
          "{<br>  \"number\": 81,<br>  \"values\": [<br>    0.5950368642807007,<br>    2.7362444400787354<br>  ],<br>  \"params\": {<br>    \"c1\": 0.3288345548475211,<br>    \"c2\": 0.897737677517229,<br>    \"w\": 0.6926001465572081,<br>    \"n_particles\": 2<br>  }<br>}",
          "{<br>  \"number\": 84,<br>  \"values\": [<br>    0.536697506904602,<br>    6.534819602966309<br>  ],<br>  \"params\": {<br>    \"c1\": 0.46503563776198475,<br>    \"c2\": 0.796415687404313,<br>    \"w\": 0.5927987213990843,<br>    \"n_particles\": 6<br>  }<br>}",
          "{<br>  \"number\": 90,<br>  \"values\": [<br>    0.4487064480781555,<br>    13.993629693984985<br>  ],<br>  \"params\": {<br>    \"c1\": 0.46619039116869393,<br>    \"c2\": 0.9083414684069878,<br>    \"w\": 0.5207024084704728,<br>    \"n_particles\": 14<br>  }<br>}",
          "{<br>  \"number\": 93,<br>  \"values\": [<br>    0.5673798322677612,<br>    3.6563498973846436<br>  ],<br>  \"params\": {<br>    \"c1\": 0.14822923829476478,<br>    \"c2\": 0.9651672371110304,<br>    \"w\": 0.5160033011776749,<br>    \"n_particles\": 3<br>  }<br>}",
          "{<br>  \"number\": 106,<br>  \"values\": [<br>    0.4643803834915161,<br>    7.357177257537842<br>  ],<br>  \"params\": {<br>    \"c1\": 0.32114512228817516,<br>    \"c2\": 0.6612783095209662,<br>    \"w\": 0.526403187324257,<br>    \"n_particles\": 5<br>  }<br>}",
          "{<br>  \"number\": 122,<br>  \"values\": [<br>    0.5511552691459656,<br>    5.288605213165283<br>  ],<br>  \"params\": {<br>    \"c1\": 0.32650794405880024,<br>    \"c2\": 0.5574111123956492,<br>    \"w\": 0.47593695130449654,<br>    \"n_particles\": 5<br>  }<br>}",
          "{<br>  \"number\": 143,<br>  \"values\": [<br>    0.4282962679862976,<br>    40.78992938995361<br>  ],<br>  \"params\": {<br>    \"c1\": 0.4008310301583537,<br>    \"c2\": 0.6489146631172436,<br>    \"w\": 0.5144701844205033,<br>    \"n_particles\": 27<br>  }<br>}",
          "{<br>  \"number\": 151,<br>  \"values\": [<br>    0.7201099991798401,<br>    1.8312344551086426<br>  ],<br>  \"params\": {<br>    \"c1\": 0.35357292454041234,<br>    \"c2\": 0.6463165538931969,<br>    \"w\": 0.5669814032919653,<br>    \"n_particles\": 1<br>  }<br>}",
          "{<br>  \"number\": 152,<br>  \"values\": [<br>    0.7012557089328766,<br>    1.8530893325805664<br>  ],<br>  \"params\": {<br>    \"c1\": 0.7809809317581542,<br>    \"c2\": 0.7013762392088136,<br>    \"w\": 0.5611872600523237,<br>    \"n_particles\": 1<br>  }<br>}",
          "{<br>  \"number\": 156,<br>  \"values\": [<br>    0.5635212063789368,<br>    3.84187912940979<br>  ],<br>  \"params\": {<br>    \"c1\": 0.3122740156922722,<br>    \"c2\": 0.6186187383817969,<br>    \"w\": 0.6049167165750889,<br>    \"n_particles\": 3<br>  }<br>}",
          "{<br>  \"number\": 172,<br>  \"values\": [<br>    0.3782031536102295,<br>    78.66221451759338<br>  ],<br>  \"params\": {<br>    \"c1\": 0.43255869497860583,<br>    \"c2\": 0.6195857637320343,<br>    \"w\": 0.5260564952340614,<br>    \"n_particles\": 85<br>  }<br>}"
         ],
         "type": "scatter",
         "x": [
          0.6936571598052979,
          0.4611651301383972,
          0.6940037906169891,
          0.5950368642807007,
          0.536697506904602,
          0.4487064480781555,
          0.5673798322677612,
          0.4643803834915161,
          0.5511552691459656,
          0.4282962679862976,
          0.7201099991798401,
          0.7012557089328766,
          0.5635212063789368,
          0.3782031536102295
         ],
         "y": [
          2.6777970790863037,
          13.513263702392578,
          2.0012612342834473,
          2.7362444400787354,
          6.534819602966309,
          13.993629693984985,
          3.6563498973846436,
          7.357177257537842,
          5.288605213165283,
          40.78992938995361,
          1.8312344551086426,
          1.8530893325805664,
          3.84187912940979,
          78.66221451759338
         ]
        }
       ],
       "layout": {
        "template": {
         "data": {
          "bar": [
           {
            "error_x": {
             "color": "#2a3f5f"
            },
            "error_y": {
             "color": "#2a3f5f"
            },
            "marker": {
             "line": {
              "color": "#E5ECF6",
              "width": 0.5
             },
             "pattern": {
              "fillmode": "overlay",
              "size": 10,
              "solidity": 0.2
             }
            },
            "type": "bar"
           }
          ],
          "barpolar": [
           {
            "marker": {
             "line": {
              "color": "#E5ECF6",
              "width": 0.5
             },
             "pattern": {
              "fillmode": "overlay",
              "size": 10,
              "solidity": 0.2
             }
            },
            "type": "barpolar"
           }
          ],
          "carpet": [
           {
            "aaxis": {
             "endlinecolor": "#2a3f5f",
             "gridcolor": "white",
             "linecolor": "white",
             "minorgridcolor": "white",
             "startlinecolor": "#2a3f5f"
            },
            "baxis": {
             "endlinecolor": "#2a3f5f",
             "gridcolor": "white",
             "linecolor": "white",
             "minorgridcolor": "white",
             "startlinecolor": "#2a3f5f"
            },
            "type": "carpet"
           }
          ],
          "choropleth": [
           {
            "colorbar": {
             "outlinewidth": 0,
             "ticks": ""
            },
            "type": "choropleth"
           }
          ],
          "contour": [
           {
            "colorbar": {
             "outlinewidth": 0,
             "ticks": ""
            },
            "colorscale": [
             [
              0,
              "#0d0887"
             ],
             [
              0.1111111111111111,
              "#46039f"
             ],
             [
              0.2222222222222222,
              "#7201a8"
             ],
             [
              0.3333333333333333,
              "#9c179e"
             ],
             [
              0.4444444444444444,
              "#bd3786"
             ],
             [
              0.5555555555555556,
              "#d8576b"
             ],
             [
              0.6666666666666666,
              "#ed7953"
             ],
             [
              0.7777777777777778,
              "#fb9f3a"
             ],
             [
              0.8888888888888888,
              "#fdca26"
             ],
             [
              1,
              "#f0f921"
             ]
            ],
            "type": "contour"
           }
          ],
          "contourcarpet": [
           {
            "colorbar": {
             "outlinewidth": 0,
             "ticks": ""
            },
            "type": "contourcarpet"
           }
          ],
          "heatmap": [
           {
            "colorbar": {
             "outlinewidth": 0,
             "ticks": ""
            },
            "colorscale": [
             [
              0,
              "#0d0887"
             ],
             [
              0.1111111111111111,
              "#46039f"
             ],
             [
              0.2222222222222222,
              "#7201a8"
             ],
             [
              0.3333333333333333,
              "#9c179e"
             ],
             [
              0.4444444444444444,
              "#bd3786"
             ],
             [
              0.5555555555555556,
              "#d8576b"
             ],
             [
              0.6666666666666666,
              "#ed7953"
             ],
             [
              0.7777777777777778,
              "#fb9f3a"
             ],
             [
              0.8888888888888888,
              "#fdca26"
             ],
             [
              1,
              "#f0f921"
             ]
            ],
            "type": "heatmap"
           }
          ],
          "heatmapgl": [
           {
            "colorbar": {
             "outlinewidth": 0,
             "ticks": ""
            },
            "colorscale": [
             [
              0,
              "#0d0887"
             ],
             [
              0.1111111111111111,
              "#46039f"
             ],
             [
              0.2222222222222222,
              "#7201a8"
             ],
             [
              0.3333333333333333,
              "#9c179e"
             ],
             [
              0.4444444444444444,
              "#bd3786"
             ],
             [
              0.5555555555555556,
              "#d8576b"
             ],
             [
              0.6666666666666666,
              "#ed7953"
             ],
             [
              0.7777777777777778,
              "#fb9f3a"
             ],
             [
              0.8888888888888888,
              "#fdca26"
             ],
             [
              1,
              "#f0f921"
             ]
            ],
            "type": "heatmapgl"
           }
          ],
          "histogram": [
           {
            "marker": {
             "pattern": {
              "fillmode": "overlay",
              "size": 10,
              "solidity": 0.2
             }
            },
            "type": "histogram"
           }
          ],
          "histogram2d": [
           {
            "colorbar": {
             "outlinewidth": 0,
             "ticks": ""
            },
            "colorscale": [
             [
              0,
              "#0d0887"
             ],
             [
              0.1111111111111111,
              "#46039f"
             ],
             [
              0.2222222222222222,
              "#7201a8"
             ],
             [
              0.3333333333333333,
              "#9c179e"
             ],
             [
              0.4444444444444444,
              "#bd3786"
             ],
             [
              0.5555555555555556,
              "#d8576b"
             ],
             [
              0.6666666666666666,
              "#ed7953"
             ],
             [
              0.7777777777777778,
              "#fb9f3a"
             ],
             [
              0.8888888888888888,
              "#fdca26"
             ],
             [
              1,
              "#f0f921"
             ]
            ],
            "type": "histogram2d"
           }
          ],
          "histogram2dcontour": [
           {
            "colorbar": {
             "outlinewidth": 0,
             "ticks": ""
            },
            "colorscale": [
             [
              0,
              "#0d0887"
             ],
             [
              0.1111111111111111,
              "#46039f"
             ],
             [
              0.2222222222222222,
              "#7201a8"
             ],
             [
              0.3333333333333333,
              "#9c179e"
             ],
             [
              0.4444444444444444,
              "#bd3786"
             ],
             [
              0.5555555555555556,
              "#d8576b"
             ],
             [
              0.6666666666666666,
              "#ed7953"
             ],
             [
              0.7777777777777778,
              "#fb9f3a"
             ],
             [
              0.8888888888888888,
              "#fdca26"
             ],
             [
              1,
              "#f0f921"
             ]
            ],
            "type": "histogram2dcontour"
           }
          ],
          "mesh3d": [
           {
            "colorbar": {
             "outlinewidth": 0,
             "ticks": ""
            },
            "type": "mesh3d"
           }
          ],
          "parcoords": [
           {
            "line": {
             "colorbar": {
              "outlinewidth": 0,
              "ticks": ""
             }
            },
            "type": "parcoords"
           }
          ],
          "pie": [
           {
            "automargin": true,
            "type": "pie"
           }
          ],
          "scatter": [
           {
            "fillpattern": {
             "fillmode": "overlay",
             "size": 10,
             "solidity": 0.2
            },
            "type": "scatter"
           }
          ],
          "scatter3d": [
           {
            "line": {
             "colorbar": {
              "outlinewidth": 0,
              "ticks": ""
             }
            },
            "marker": {
             "colorbar": {
              "outlinewidth": 0,
              "ticks": ""
             }
            },
            "type": "scatter3d"
           }
          ],
          "scattercarpet": [
           {
            "marker": {
             "colorbar": {
              "outlinewidth": 0,
              "ticks": ""
             }
            },
            "type": "scattercarpet"
           }
          ],
          "scattergeo": [
           {
            "marker": {
             "colorbar": {
              "outlinewidth": 0,
              "ticks": ""
             }
            },
            "type": "scattergeo"
           }
          ],
          "scattergl": [
           {
            "marker": {
             "colorbar": {
              "outlinewidth": 0,
              "ticks": ""
             }
            },
            "type": "scattergl"
           }
          ],
          "scattermapbox": [
           {
            "marker": {
             "colorbar": {
              "outlinewidth": 0,
              "ticks": ""
             }
            },
            "type": "scattermapbox"
           }
          ],
          "scatterpolar": [
           {
            "marker": {
             "colorbar": {
              "outlinewidth": 0,
              "ticks": ""
             }
            },
            "type": "scatterpolar"
           }
          ],
          "scatterpolargl": [
           {
            "marker": {
             "colorbar": {
              "outlinewidth": 0,
              "ticks": ""
             }
            },
            "type": "scatterpolargl"
           }
          ],
          "scatterternary": [
           {
            "marker": {
             "colorbar": {
              "outlinewidth": 0,
              "ticks": ""
             }
            },
            "type": "scatterternary"
           }
          ],
          "surface": [
           {
            "colorbar": {
             "outlinewidth": 0,
             "ticks": ""
            },
            "colorscale": [
             [
              0,
              "#0d0887"
             ],
             [
              0.1111111111111111,
              "#46039f"
             ],
             [
              0.2222222222222222,
              "#7201a8"
             ],
             [
              0.3333333333333333,
              "#9c179e"
             ],
             [
              0.4444444444444444,
              "#bd3786"
             ],
             [
              0.5555555555555556,
              "#d8576b"
             ],
             [
              0.6666666666666666,
              "#ed7953"
             ],
             [
              0.7777777777777778,
              "#fb9f3a"
             ],
             [
              0.8888888888888888,
              "#fdca26"
             ],
             [
              1,
              "#f0f921"
             ]
            ],
            "type": "surface"
           }
          ],
          "table": [
           {
            "cells": {
             "fill": {
              "color": "#EBF0F8"
             },
             "line": {
              "color": "white"
             }
            },
            "header": {
             "fill": {
              "color": "#C8D4E3"
             },
             "line": {
              "color": "white"
             }
            },
            "type": "table"
           }
          ]
         },
         "layout": {
          "annotationdefaults": {
           "arrowcolor": "#2a3f5f",
           "arrowhead": 0,
           "arrowwidth": 1
          },
          "autotypenumbers": "strict",
          "coloraxis": {
           "colorbar": {
            "outlinewidth": 0,
            "ticks": ""
           }
          },
          "colorscale": {
           "diverging": [
            [
             0,
             "#8e0152"
            ],
            [
             0.1,
             "#c51b7d"
            ],
            [
             0.2,
             "#de77ae"
            ],
            [
             0.3,
             "#f1b6da"
            ],
            [
             0.4,
             "#fde0ef"
            ],
            [
             0.5,
             "#f7f7f7"
            ],
            [
             0.6,
             "#e6f5d0"
            ],
            [
             0.7,
             "#b8e186"
            ],
            [
             0.8,
             "#7fbc41"
            ],
            [
             0.9,
             "#4d9221"
            ],
            [
             1,
             "#276419"
            ]
           ],
           "sequential": [
            [
             0,
             "#0d0887"
            ],
            [
             0.1111111111111111,
             "#46039f"
            ],
            [
             0.2222222222222222,
             "#7201a8"
            ],
            [
             0.3333333333333333,
             "#9c179e"
            ],
            [
             0.4444444444444444,
             "#bd3786"
            ],
            [
             0.5555555555555556,
             "#d8576b"
            ],
            [
             0.6666666666666666,
             "#ed7953"
            ],
            [
             0.7777777777777778,
             "#fb9f3a"
            ],
            [
             0.8888888888888888,
             "#fdca26"
            ],
            [
             1,
             "#f0f921"
            ]
           ],
           "sequentialminus": [
            [
             0,
             "#0d0887"
            ],
            [
             0.1111111111111111,
             "#46039f"
            ],
            [
             0.2222222222222222,
             "#7201a8"
            ],
            [
             0.3333333333333333,
             "#9c179e"
            ],
            [
             0.4444444444444444,
             "#bd3786"
            ],
            [
             0.5555555555555556,
             "#d8576b"
            ],
            [
             0.6666666666666666,
             "#ed7953"
            ],
            [
             0.7777777777777778,
             "#fb9f3a"
            ],
            [
             0.8888888888888888,
             "#fdca26"
            ],
            [
             1,
             "#f0f921"
            ]
           ]
          },
          "colorway": [
           "#636efa",
           "#EF553B",
           "#00cc96",
           "#ab63fa",
           "#FFA15A",
           "#19d3f3",
           "#FF6692",
           "#B6E880",
           "#FF97FF",
           "#FECB52"
          ],
          "font": {
           "color": "#2a3f5f"
          },
          "geo": {
           "bgcolor": "white",
           "lakecolor": "white",
           "landcolor": "#E5ECF6",
           "showlakes": true,
           "showland": true,
           "subunitcolor": "white"
          },
          "hoverlabel": {
           "align": "left"
          },
          "hovermode": "closest",
          "mapbox": {
           "style": "light"
          },
          "paper_bgcolor": "white",
          "plot_bgcolor": "#E5ECF6",
          "polar": {
           "angularaxis": {
            "gridcolor": "white",
            "linecolor": "white",
            "ticks": ""
           },
           "bgcolor": "#E5ECF6",
           "radialaxis": {
            "gridcolor": "white",
            "linecolor": "white",
            "ticks": ""
           }
          },
          "scene": {
           "xaxis": {
            "backgroundcolor": "#E5ECF6",
            "gridcolor": "white",
            "gridwidth": 2,
            "linecolor": "white",
            "showbackground": true,
            "ticks": "",
            "zerolinecolor": "white"
           },
           "yaxis": {
            "backgroundcolor": "#E5ECF6",
            "gridcolor": "white",
            "gridwidth": 2,
            "linecolor": "white",
            "showbackground": true,
            "ticks": "",
            "zerolinecolor": "white"
           },
           "zaxis": {
            "backgroundcolor": "#E5ECF6",
            "gridcolor": "white",
            "gridwidth": 2,
            "linecolor": "white",
            "showbackground": true,
            "ticks": "",
            "zerolinecolor": "white"
           }
          },
          "shapedefaults": {
           "line": {
            "color": "#2a3f5f"
           }
          },
          "ternary": {
           "aaxis": {
            "gridcolor": "white",
            "linecolor": "white",
            "ticks": ""
           },
           "baxis": {
            "gridcolor": "white",
            "linecolor": "white",
            "ticks": ""
           },
           "bgcolor": "#E5ECF6",
           "caxis": {
            "gridcolor": "white",
            "linecolor": "white",
            "ticks": ""
           }
          },
          "title": {
           "x": 0.05
          },
          "xaxis": {
           "automargin": true,
           "gridcolor": "white",
           "linecolor": "white",
           "ticks": "",
           "title": {
            "standoff": 15
           },
           "zerolinecolor": "white",
           "zerolinewidth": 2
          },
          "yaxis": {
           "automargin": true,
           "gridcolor": "white",
           "linecolor": "white",
           "ticks": "",
           "title": {
            "standoff": 15
           },
           "zerolinecolor": "white",
           "zerolinewidth": 2
          }
         }
        },
        "title": {
         "text": "Pareto-front Plot"
        },
        "xaxis": {
         "title": {
          "text": "Error"
         }
        },
        "yaxis": {
         "title": {
          "text": "Run time"
         }
        }
       }
      }
     },
     "metadata": {},
     "output_type": "display_data"
    }
   ],
   "source": [
    "fig = vis.plot_pareto_front(\n",
    "    study,\n",
    "    targets=lambda t: (t.values[0], t.values[1]),\n",
    "    target_names=[\"Error\", \"Run time\"],\n",
    ").show()"
   ]
  },
  {
   "cell_type": "code",
   "execution_count": 8,
   "id": "f4fad65f",
   "metadata": {},
   "outputs": [
    {
     "name": "stdout",
     "output_type": "stream",
     "text": [
      "[0.3782031536102295, 78.66221451759338]\n",
      "  c1: 0.43255869497860583\n",
      "  c2: 0.6195857637320343\n",
      "  w: 0.5260564952340614\n",
      "  n_particles: 85\n"
     ]
    }
   ],
   "source": [
    "print(study.trials[172].values)\n",
    "for k, v in study.trials[172].params.items():\n",
    "    print(f\"  {k}: {v}\")"
   ]
  },
  {
   "cell_type": "code",
   "execution_count": 9,
   "id": "2a002e4a",
   "metadata": {},
   "outputs": [
    {
     "data": {
      "text/plain": [
       "302"
      ]
     },
     "execution_count": 9,
     "metadata": {},
     "output_type": "execute_result"
    }
   ],
   "source": [
    "import gc \n",
    "gc.collect()"
   ]
  }
 ],
 "metadata": {
  "kernelspec": {
   "display_name": "TX_prediction",
   "language": "python",
   "name": "python3"
  },
  "language_info": {
   "codemirror_mode": {
    "name": "ipython",
    "version": 3
   },
   "file_extension": ".py",
   "mimetype": "text/x-python",
   "name": "python",
   "nbconvert_exporter": "python",
   "pygments_lexer": "ipython3",
   "version": "3.12.3"
  }
 },
 "nbformat": 4,
 "nbformat_minor": 5
}
